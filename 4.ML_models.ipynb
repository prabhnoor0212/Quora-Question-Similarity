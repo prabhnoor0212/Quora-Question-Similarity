{
 "cells": [
  {
   "cell_type": "code",
   "execution_count": 28,
   "metadata": {
    "colab": {},
    "colab_type": "code",
    "id": "6VXPfRp-tARR",
    "outputId": "6c27acaf-2c6a-467f-fd7a-68efce98e30b"
   },
   "outputs": [],
   "source": [
    "import pandas as pd\n",
    "import matplotlib.pyplot as plt\n",
    "import re\n",
    "import time\n",
    "import warnings\n",
    "import sqlite3\n",
    "from sqlalchemy import create_engine # database connection\n",
    "import csv\n",
    "import os\n",
    "warnings.filterwarnings(\"ignore\")\n",
    "import datetime as dt\n",
    "import numpy as np\n",
    "from nltk.corpus import stopwords\n",
    "from sklearn.decomposition import TruncatedSVD\n",
    "from sklearn.preprocessing import normalize\n",
    "from sklearn.feature_extraction.text import CountVectorizer\n",
    "from sklearn.manifold import TSNE\n",
    "import seaborn as sns\n",
    "from sklearn.neighbors import KNeighborsClassifier\n",
    "from sklearn.metrics import confusion_matrix\n",
    "from sklearn.metrics.classification import accuracy_score, log_loss\n",
    "from sklearn.feature_extraction.text import TfidfVectorizer\n",
    "from collections import Counter\n",
    "from scipy.sparse import hstack\n",
    "from sklearn.multiclass import OneVsRestClassifier\n",
    "from sklearn.svm import SVC\n",
    "from sklearn.model_selection import StratifiedKFold \n",
    "from collections import Counter, defaultdict\n",
    "from sklearn.calibration import CalibratedClassifierCV\n",
    "from sklearn.naive_bayes import MultinomialNB\n",
    "from sklearn.naive_bayes import GaussianNB\n",
    "from sklearn.model_selection import train_test_split\n",
    "from sklearn.model_selection import GridSearchCV, RandomizedSearchCV\n",
    "import math\n",
    "from sklearn.metrics import normalized_mutual_info_score\n",
    "from sklearn.ensemble import RandomForestClassifier\n",
    "\n",
    "\n",
    "\n",
    "from sklearn.model_selection import cross_val_score\n",
    "from sklearn.linear_model import SGDClassifier\n",
    "from mlxtend.classifier import StackingClassifier\n",
    "\n",
    "from sklearn import model_selection\n",
    "from sklearn.linear_model import LogisticRegression\n",
    "from sklearn.metrics import precision_recall_curve, auc, roc_curve"
   ]
  },
  {
   "cell_type": "markdown",
   "metadata": {
    "colab_type": "text",
    "id": "ZihvUPvHtARd"
   },
   "source": [
    "<h1>4. Machine Learning Models </h1>"
   ]
  },
  {
   "cell_type": "markdown",
   "metadata": {
    "colab_type": "text",
    "id": "CtN9VBPutARf"
   },
   "source": [
    "<h2> 4.1 Reading data from file and storing into sql table </h2>"
   ]
  },
  {
   "cell_type": "code",
   "execution_count": 12,
   "metadata": {
    "colab": {},
    "colab_type": "code",
    "id": "owBQdjY1tARh"
   },
   "outputs": [
    {
     "name": "stdout",
     "output_type": "stream",
     "text": [
      "180000 rows\n",
      "360000 rows\n",
      "540000 rows\n"
     ]
    }
   ],
   "source": [
    "#Creating db file from csv\n",
    "if not os.path.isfile('train.db'):\n",
    "    disk_engine = create_engine('sqlite:///train.db')\n",
    "    start = dt.datetime.now()\n",
    "    chunksize = 180000\n",
    "    j = 0\n",
    "    index_start = 1\n",
    "    for df in pd.read_csv('final_features.csv', names=['Unnamed: 0','id','is_duplicate','cwc_min','cwc_max','csc_min','csc_max','ctc_min','ctc_max','last_word_eq','first_word_eq','abs_len_diff','mean_len','token_set_ratio','token_sort_ratio','fuzz_ratio','fuzz_partial_ratio','longest_substr_ratio','freq_qid1','freq_qid2','q1len','q2len','q1_n_words','q2_n_words','word_Common','word_Total','word_share','freq_q1+q2','freq_q1-q2','0_x','1_x','2_x','3_x','4_x','5_x','6_x','7_x','8_x','9_x','10_x','11_x','12_x','13_x','14_x','15_x','16_x','17_x','18_x','19_x','20_x','21_x','22_x','23_x','24_x','25_x','26_x','27_x','28_x','29_x','30_x','31_x','32_x','33_x','34_x','35_x','36_x','37_x','38_x','39_x','40_x','41_x','42_x','43_x','44_x','45_x','46_x','47_x','48_x','49_x','50_x','51_x','52_x','53_x','54_x','55_x','56_x','57_x','58_x','59_x','60_x','61_x','62_x','63_x','64_x','65_x','66_x','67_x','68_x','69_x','70_x','71_x','72_x','73_x','74_x','75_x','76_x','77_x','78_x','79_x','80_x','81_x','82_x','83_x','84_x','85_x','86_x','87_x','88_x','89_x','90_x','91_x','92_x','93_x','94_x','95_x','96_x','97_x','98_x','99_x','100_x','101_x','102_x','103_x','104_x','105_x','106_x','107_x','108_x','109_x','110_x','111_x','112_x','113_x','114_x','115_x','116_x','117_x','118_x','119_x','120_x','121_x','122_x','123_x','124_x','125_x','126_x','127_x','128_x','129_x','130_x','131_x','132_x','133_x','134_x','135_x','136_x','137_x','138_x','139_x','140_x','141_x','142_x','143_x','144_x','145_x','146_x','147_x','148_x','149_x','150_x','151_x','152_x','153_x','154_x','155_x','156_x','157_x','158_x','159_x','160_x','161_x','162_x','163_x','164_x','165_x','166_x','167_x','168_x','169_x','170_x','171_x','172_x','173_x','174_x','175_x','176_x','177_x','178_x','179_x','180_x','181_x','182_x','183_x','184_x','185_x','186_x','187_x','188_x','189_x','190_x','191_x','192_x','193_x','194_x','195_x','196_x','197_x','198_x','199_x','200_x','201_x','202_x','203_x','204_x','205_x','206_x','207_x','208_x','209_x','210_x','211_x','212_x','213_x','214_x','215_x','216_x','217_x','218_x','219_x','220_x','221_x','222_x','223_x','224_x','225_x','226_x','227_x','228_x','229_x','230_x','231_x','232_x','233_x','234_x','235_x','236_x','237_x','238_x','239_x','240_x','241_x','242_x','243_x','244_x','245_x','246_x','247_x','248_x','249_x','250_x','251_x','252_x','253_x','254_x','255_x','256_x','257_x','258_x','259_x','260_x','261_x','262_x','263_x','264_x','265_x','266_x','267_x','268_x','269_x','270_x','271_x','272_x','273_x','274_x','275_x','276_x','277_x','278_x','279_x','280_x','281_x','282_x','283_x','284_x','285_x','286_x','287_x','288_x','289_x','290_x','291_x','292_x','293_x','294_x','295_x','296_x','297_x','298_x','299_x','300_x','301_x','302_x','303_x','304_x','305_x','306_x','307_x','308_x','309_x','310_x','311_x','312_x','313_x','314_x','315_x','316_x','317_x','318_x','319_x','320_x','321_x','322_x','323_x','324_x','325_x','326_x','327_x','328_x','329_x','330_x','331_x','332_x','333_x','334_x','335_x','336_x','337_x','338_x','339_x','340_x','341_x','342_x','343_x','344_x','345_x','346_x','347_x','348_x','349_x','350_x','351_x','352_x','353_x','354_x','355_x','356_x','357_x','358_x','359_x','360_x','361_x','362_x','363_x','364_x','365_x','366_x','367_x','368_x','369_x','370_x','371_x','372_x','373_x','374_x','375_x','376_x','377_x','378_x','379_x','380_x','381_x','382_x','383_x','0_y','1_y','2_y','3_y','4_y','5_y','6_y','7_y','8_y','9_y','10_y','11_y','12_y','13_y','14_y','15_y','16_y','17_y','18_y','19_y','20_y','21_y','22_y','23_y','24_y','25_y','26_y','27_y','28_y','29_y','30_y','31_y','32_y','33_y','34_y','35_y','36_y','37_y','38_y','39_y','40_y','41_y','42_y','43_y','44_y','45_y','46_y','47_y','48_y','49_y','50_y','51_y','52_y','53_y','54_y','55_y','56_y','57_y','58_y','59_y','60_y','61_y','62_y','63_y','64_y','65_y','66_y','67_y','68_y','69_y','70_y','71_y','72_y','73_y','74_y','75_y','76_y','77_y','78_y','79_y','80_y','81_y','82_y','83_y','84_y','85_y','86_y','87_y','88_y','89_y','90_y','91_y','92_y','93_y','94_y','95_y','96_y','97_y','98_y','99_y','100_y','101_y','102_y','103_y','104_y','105_y','106_y','107_y','108_y','109_y','110_y','111_y','112_y','113_y','114_y','115_y','116_y','117_y','118_y','119_y','120_y','121_y','122_y','123_y','124_y','125_y','126_y','127_y','128_y','129_y','130_y','131_y','132_y','133_y','134_y','135_y','136_y','137_y','138_y','139_y','140_y','141_y','142_y','143_y','144_y','145_y','146_y','147_y','148_y','149_y','150_y','151_y','152_y','153_y','154_y','155_y','156_y','157_y','158_y','159_y','160_y','161_y','162_y','163_y','164_y','165_y','166_y','167_y','168_y','169_y','170_y','171_y','172_y','173_y','174_y','175_y','176_y','177_y','178_y','179_y','180_y','181_y','182_y','183_y','184_y','185_y','186_y','187_y','188_y','189_y','190_y','191_y','192_y','193_y','194_y','195_y','196_y','197_y','198_y','199_y','200_y','201_y','202_y','203_y','204_y','205_y','206_y','207_y','208_y','209_y','210_y','211_y','212_y','213_y','214_y','215_y','216_y','217_y','218_y','219_y','220_y','221_y','222_y','223_y','224_y','225_y','226_y','227_y','228_y','229_y','230_y','231_y','232_y','233_y','234_y','235_y','236_y','237_y','238_y','239_y','240_y','241_y','242_y','243_y','244_y','245_y','246_y','247_y','248_y','249_y','250_y','251_y','252_y','253_y','254_y','255_y','256_y','257_y','258_y','259_y','260_y','261_y','262_y','263_y','264_y','265_y','266_y','267_y','268_y','269_y','270_y','271_y','272_y','273_y','274_y','275_y','276_y','277_y','278_y','279_y','280_y','281_y','282_y','283_y','284_y','285_y','286_y','287_y','288_y','289_y','290_y','291_y','292_y','293_y','294_y','295_y','296_y','297_y','298_y','299_y','300_y','301_y','302_y','303_y','304_y','305_y','306_y','307_y','308_y','309_y','310_y','311_y','312_y','313_y','314_y','315_y','316_y','317_y','318_y','319_y','320_y','321_y','322_y','323_y','324_y','325_y','326_y','327_y','328_y','329_y','330_y','331_y','332_y','333_y','334_y','335_y','336_y','337_y','338_y','339_y','340_y','341_y','342_y','343_y','344_y','345_y','346_y','347_y','348_y','349_y','350_y','351_y','352_y','353_y','354_y','355_y','356_y','357_y','358_y','359_y','360_y','361_y','362_y','363_y','364_y','365_y','366_y','367_y','368_y','369_y','370_y','371_y','372_y','373_y','374_y','375_y','376_y','377_y','378_y','379_y','380_y','381_y','382_y','383_y'], chunksize=chunksize, iterator=True, encoding='utf-8', ):\n",
    "        df.index += index_start\n",
    "        j+=1\n",
    "        print('{} rows'.format(j*chunksize))\n",
    "        df.to_sql('data', disk_engine, if_exists='append')\n",
    "        index_start = df.index[-1] + 1"
   ]
  },
  {
   "cell_type": "code",
   "execution_count": 13,
   "metadata": {
    "colab": {},
    "colab_type": "code",
    "id": "4hpD3aBktARn"
   },
   "outputs": [],
   "source": [
    "#http://www.sqlitetutorial.net/sqlite-python/create-tables/\n",
    "def create_connection(db_file):\n",
    "    \"\"\" create a database connection to the SQLite database\n",
    "        specified by db_file\n",
    "    :param db_file: database file\n",
    "    :return: Connection object or None\n",
    "    \"\"\"\n",
    "    try:\n",
    "        conn = sqlite3.connect(db_file)\n",
    "        return conn\n",
    "    except Error as e:\n",
    "        print(e)\n",
    " \n",
    "    return None\n",
    "\n",
    "\n",
    "def checkTableExists(dbcon):\n",
    "    cursr = dbcon.cursor()\n",
    "    str = \"select name from sqlite_master where type='table'\"\n",
    "    table_names = cursr.execute(str)\n",
    "    print(\"Tables in the databse:\")\n",
    "    tables =table_names.fetchall() \n",
    "    print(tables[0][0])\n",
    "    return(len(tables))"
   ]
  },
  {
   "cell_type": "code",
   "execution_count": 14,
   "metadata": {
    "colab": {},
    "colab_type": "code",
    "id": "nR8ZIUnttARs",
    "outputId": "810fb3fb-7da2-4b78-9e29-9edabbf68cf6"
   },
   "outputs": [
    {
     "name": "stdout",
     "output_type": "stream",
     "text": [
      "Tables in the databse:\n",
      "data\n"
     ]
    }
   ],
   "source": [
    "read_db = 'train.db'\n",
    "conn_r = create_connection(read_db)\n",
    "checkTableExists(conn_r)\n",
    "conn_r.close()"
   ]
  },
  {
   "cell_type": "code",
   "execution_count": 15,
   "metadata": {
    "colab": {},
    "colab_type": "code",
    "id": "SZq5gaaztARy"
   },
   "outputs": [],
   "source": [
    "# try to sample data according to the computing power you have\n",
    "if os.path.isfile(read_db):\n",
    "    conn_r = create_connection(read_db)\n",
    "    if conn_r is not None:\n",
    "        # for selecting first 1M rows\n",
    "        # data = pd.read_sql_query(\"\"\"SELECT * FROM data LIMIT 100001;\"\"\", conn_r)\n",
    "        \n",
    "        # for selecting random points\n",
    "        data = pd.read_sql_query(\"SELECT * From data ORDER BY RANDOM() LIMIT 100001;\", conn_r)\n",
    "        conn_r.commit()\n",
    "        conn_r.close()"
   ]
  },
  {
   "cell_type": "code",
   "execution_count": 16,
   "metadata": {
    "colab": {},
    "colab_type": "code",
    "id": "ZkeBKktKtAR3"
   },
   "outputs": [],
   "source": [
    "# remove the first row \n",
    "data.drop(data.index[0], inplace=True)\n",
    "y_true = data['is_duplicate']\n",
    "data.drop(['Unnamed: 0', 'id','index','is_duplicate'], axis=1, inplace=True)"
   ]
  },
  {
   "cell_type": "code",
   "execution_count": 17,
   "metadata": {
    "colab": {},
    "colab_type": "code",
    "id": "QKSenpsmtAR9",
    "outputId": "81d890ce-df79-4402-9324-84817dbd5a7d"
   },
   "outputs": [
    {
     "data": {
      "text/html": [
       "<div>\n",
       "<style scoped>\n",
       "    .dataframe tbody tr th:only-of-type {\n",
       "        vertical-align: middle;\n",
       "    }\n",
       "\n",
       "    .dataframe tbody tr th {\n",
       "        vertical-align: top;\n",
       "    }\n",
       "\n",
       "    .dataframe thead th {\n",
       "        text-align: right;\n",
       "    }\n",
       "</style>\n",
       "<table border=\"1\" class=\"dataframe\">\n",
       "  <thead>\n",
       "    <tr style=\"text-align: right;\">\n",
       "      <th></th>\n",
       "      <th>cwc_min</th>\n",
       "      <th>cwc_max</th>\n",
       "      <th>csc_min</th>\n",
       "      <th>csc_max</th>\n",
       "      <th>ctc_min</th>\n",
       "      <th>ctc_max</th>\n",
       "      <th>last_word_eq</th>\n",
       "      <th>first_word_eq</th>\n",
       "      <th>abs_len_diff</th>\n",
       "      <th>mean_len</th>\n",
       "      <th>...</th>\n",
       "      <th>374_y</th>\n",
       "      <th>375_y</th>\n",
       "      <th>376_y</th>\n",
       "      <th>377_y</th>\n",
       "      <th>378_y</th>\n",
       "      <th>379_y</th>\n",
       "      <th>380_y</th>\n",
       "      <th>381_y</th>\n",
       "      <th>382_y</th>\n",
       "      <th>383_y</th>\n",
       "    </tr>\n",
       "  </thead>\n",
       "  <tbody>\n",
       "    <tr>\n",
       "      <th>1</th>\n",
       "      <td>0.749981250468738</td>\n",
       "      <td>0.749981250468738</td>\n",
       "      <td>0.399992000159997</td>\n",
       "      <td>0.333327777870369</td>\n",
       "      <td>0.555549382784636</td>\n",
       "      <td>0.49999500005</td>\n",
       "      <td>1.0</td>\n",
       "      <td>0.0</td>\n",
       "      <td>1.0</td>\n",
       "      <td>9.5</td>\n",
       "      <td>...</td>\n",
       "      <td>3.88169085979462</td>\n",
       "      <td>8.69192713499069</td>\n",
       "      <td>2.63254027068615</td>\n",
       "      <td>1.30349086131901</td>\n",
       "      <td>-0.680734872817993</td>\n",
       "      <td>-7.43339229188859</td>\n",
       "      <td>-22.0526551455259</td>\n",
       "      <td>5.5877387970686</td>\n",
       "      <td>0.498130679130554</td>\n",
       "      <td>-0.590428106486797</td>\n",
       "    </tr>\n",
       "    <tr>\n",
       "      <th>2</th>\n",
       "      <td>0.999975000624984</td>\n",
       "      <td>0.799984000319994</td>\n",
       "      <td>0.999975000624984</td>\n",
       "      <td>0.799984000319994</td>\n",
       "      <td>0.888879012455417</td>\n",
       "      <td>0.727266115762584</td>\n",
       "      <td>0.0</td>\n",
       "      <td>1.0</td>\n",
       "      <td>2.0</td>\n",
       "      <td>10.0</td>\n",
       "      <td>...</td>\n",
       "      <td>1.92425365094096</td>\n",
       "      <td>-0.645515859127045</td>\n",
       "      <td>-0.593018352985382</td>\n",
       "      <td>-3.66608057171106</td>\n",
       "      <td>5.56589114665985</td>\n",
       "      <td>3.65697854757309</td>\n",
       "      <td>-3.24066729098558</td>\n",
       "      <td>10.4478753656149</td>\n",
       "      <td>6.27716842293739</td>\n",
       "      <td>6.26215917430818</td>\n",
       "    </tr>\n",
       "    <tr>\n",
       "      <th>3</th>\n",
       "      <td>0.499975001249937</td>\n",
       "      <td>0.249993750156246</td>\n",
       "      <td>0.499987500312492</td>\n",
       "      <td>0.399992000159997</td>\n",
       "      <td>0.499991666805553</td>\n",
       "      <td>0.333329629670781</td>\n",
       "      <td>0.0</td>\n",
       "      <td>1.0</td>\n",
       "      <td>3.0</td>\n",
       "      <td>7.5</td>\n",
       "      <td>...</td>\n",
       "      <td>5.22167427837849</td>\n",
       "      <td>5.07078965008259</td>\n",
       "      <td>-2.19351422041655</td>\n",
       "      <td>-2.72474935511127</td>\n",
       "      <td>10.4356663972139</td>\n",
       "      <td>9.03899998217821</td>\n",
       "      <td>-10.6981716752052</td>\n",
       "      <td>11.034475505352</td>\n",
       "      <td>4.45544070005417</td>\n",
       "      <td>2.5306627410464</td>\n",
       "    </tr>\n",
       "    <tr>\n",
       "      <th>4</th>\n",
       "      <td>0.799984000319994</td>\n",
       "      <td>0.799984000319994</td>\n",
       "      <td>0.799984000319994</td>\n",
       "      <td>0.666655555740738</td>\n",
       "      <td>0.727266115762584</td>\n",
       "      <td>0.727266115762584</td>\n",
       "      <td>1.0</td>\n",
       "      <td>0.0</td>\n",
       "      <td>0.0</td>\n",
       "      <td>11.0</td>\n",
       "      <td>...</td>\n",
       "      <td>-1.24510133266449</td>\n",
       "      <td>13.7652142420411</td>\n",
       "      <td>2.7649932205677</td>\n",
       "      <td>-0.360878232866526</td>\n",
       "      <td>4.46211184747517</td>\n",
       "      <td>6.03163813054562</td>\n",
       "      <td>-13.8800935917534</td>\n",
       "      <td>-1.04505569115281</td>\n",
       "      <td>7.64734876528382</td>\n",
       "      <td>-2.56111484393477</td>\n",
       "    </tr>\n",
       "    <tr>\n",
       "      <th>5</th>\n",
       "      <td>0.249997916684028</td>\n",
       "      <td>0.176469550179117</td>\n",
       "      <td>0.499995833368055</td>\n",
       "      <td>0.399997333351111</td>\n",
       "      <td>0.35999856000576</td>\n",
       "      <td>0.243242585830849</td>\n",
       "      <td>0.0</td>\n",
       "      <td>0.0</td>\n",
       "      <td>12.0</td>\n",
       "      <td>31.0</td>\n",
       "      <td>...</td>\n",
       "      <td>7.33733921125531</td>\n",
       "      <td>43.4869367480278</td>\n",
       "      <td>-24.3961458876729</td>\n",
       "      <td>-10.9810364246368</td>\n",
       "      <td>27.2066111192107</td>\n",
       "      <td>8.91355116851628</td>\n",
       "      <td>-56.506372731179</td>\n",
       "      <td>39.2116783633828</td>\n",
       "      <td>59.1170714185573</td>\n",
       "      <td>3.55355989560485</td>\n",
       "    </tr>\n",
       "  </tbody>\n",
       "</table>\n",
       "<p>5 rows × 794 columns</p>\n",
       "</div>"
      ],
      "text/plain": [
       "             cwc_min            cwc_max            csc_min            csc_max  \\\n",
       "1  0.749981250468738  0.749981250468738  0.399992000159997  0.333327777870369   \n",
       "2  0.999975000624984  0.799984000319994  0.999975000624984  0.799984000319994   \n",
       "3  0.499975001249937  0.249993750156246  0.499987500312492  0.399992000159997   \n",
       "4  0.799984000319994  0.799984000319994  0.799984000319994  0.666655555740738   \n",
       "5  0.249997916684028  0.176469550179117  0.499995833368055  0.399997333351111   \n",
       "\n",
       "             ctc_min            ctc_max last_word_eq first_word_eq  \\\n",
       "1  0.555549382784636      0.49999500005          1.0           0.0   \n",
       "2  0.888879012455417  0.727266115762584          0.0           1.0   \n",
       "3  0.499991666805553  0.333329629670781          0.0           1.0   \n",
       "4  0.727266115762584  0.727266115762584          1.0           0.0   \n",
       "5   0.35999856000576  0.243242585830849          0.0           0.0   \n",
       "\n",
       "  abs_len_diff mean_len         ...                      374_y  \\\n",
       "1          1.0      9.5         ...           3.88169085979462   \n",
       "2          2.0     10.0         ...           1.92425365094096   \n",
       "3          3.0      7.5         ...           5.22167427837849   \n",
       "4          0.0     11.0         ...          -1.24510133266449   \n",
       "5         12.0     31.0         ...           7.33733921125531   \n",
       "\n",
       "                375_y               376_y               377_y  \\\n",
       "1    8.69192713499069    2.63254027068615    1.30349086131901   \n",
       "2  -0.645515859127045  -0.593018352985382   -3.66608057171106   \n",
       "3    5.07078965008259   -2.19351422041655   -2.72474935511127   \n",
       "4    13.7652142420411     2.7649932205677  -0.360878232866526   \n",
       "5    43.4869367480278   -24.3961458876729   -10.9810364246368   \n",
       "\n",
       "                378_y              379_y              380_y  \\\n",
       "1  -0.680734872817993  -7.43339229188859  -22.0526551455259   \n",
       "2    5.56589114665985   3.65697854757309  -3.24066729098558   \n",
       "3    10.4356663972139   9.03899998217821  -10.6981716752052   \n",
       "4    4.46211184747517   6.03163813054562  -13.8800935917534   \n",
       "5    27.2066111192107   8.91355116851628   -56.506372731179   \n",
       "\n",
       "               381_y              382_y               383_y  \n",
       "1    5.5877387970686  0.498130679130554  -0.590428106486797  \n",
       "2   10.4478753656149   6.27716842293739    6.26215917430818  \n",
       "3    11.034475505352   4.45544070005417     2.5306627410464  \n",
       "4  -1.04505569115281   7.64734876528382   -2.56111484393477  \n",
       "5   39.2116783633828   59.1170714185573    3.55355989560485  \n",
       "\n",
       "[5 rows x 794 columns]"
      ]
     },
     "execution_count": 17,
     "metadata": {},
     "output_type": "execute_result"
    }
   ],
   "source": [
    "data.head()"
   ]
  },
  {
   "cell_type": "markdown",
   "metadata": {
    "colab_type": "text",
    "id": "KaWHDzqUtASD"
   },
   "source": [
    "<h2> 4.2 Converting strings to numerics </h2>"
   ]
  },
  {
   "cell_type": "code",
   "execution_count": 18,
   "metadata": {
    "colab": {},
    "colab_type": "code",
    "id": "iLV60gkptASD",
    "outputId": "f297e0f4-52d5-4ab4-8a43-f0ff82f63698"
   },
   "outputs": [
    {
     "name": "stdout",
     "output_type": "stream",
     "text": [
      "cwc_min\n",
      "cwc_max\n",
      "csc_min\n",
      "csc_max\n",
      "ctc_min\n",
      "ctc_max\n",
      "last_word_eq\n",
      "first_word_eq\n",
      "abs_len_diff\n",
      "mean_len\n",
      "token_set_ratio\n",
      "token_sort_ratio\n",
      "fuzz_ratio\n",
      "fuzz_partial_ratio\n",
      "longest_substr_ratio\n",
      "freq_qid1\n",
      "freq_qid2\n",
      "q1len\n",
      "q2len\n",
      "q1_n_words\n",
      "q2_n_words\n",
      "word_Common\n",
      "word_Total\n",
      "word_share\n",
      "freq_q1+q2\n",
      "freq_q1-q2\n",
      "0_x\n",
      "1_x\n",
      "2_x\n",
      "3_x\n",
      "4_x\n",
      "5_x\n",
      "6_x\n",
      "7_x\n",
      "8_x\n",
      "9_x\n",
      "10_x\n",
      "11_x\n",
      "12_x\n",
      "13_x\n",
      "14_x\n",
      "15_x\n",
      "16_x\n",
      "17_x\n",
      "18_x\n",
      "19_x\n",
      "20_x\n",
      "21_x\n",
      "22_x\n",
      "23_x\n",
      "24_x\n",
      "25_x\n",
      "26_x\n",
      "27_x\n",
      "28_x\n",
      "29_x\n",
      "30_x\n",
      "31_x\n",
      "32_x\n",
      "33_x\n",
      "34_x\n",
      "35_x\n",
      "36_x\n",
      "37_x\n",
      "38_x\n",
      "39_x\n",
      "40_x\n",
      "41_x\n",
      "42_x\n",
      "43_x\n",
      "44_x\n",
      "45_x\n",
      "46_x\n",
      "47_x\n",
      "48_x\n",
      "49_x\n",
      "50_x\n",
      "51_x\n",
      "52_x\n",
      "53_x\n",
      "54_x\n",
      "55_x\n",
      "56_x\n",
      "57_x\n",
      "58_x\n",
      "59_x\n",
      "60_x\n",
      "61_x\n",
      "62_x\n",
      "63_x\n",
      "64_x\n",
      "65_x\n",
      "66_x\n",
      "67_x\n",
      "68_x\n",
      "69_x\n",
      "70_x\n",
      "71_x\n",
      "72_x\n",
      "73_x\n",
      "74_x\n",
      "75_x\n",
      "76_x\n",
      "77_x\n",
      "78_x\n",
      "79_x\n",
      "80_x\n",
      "81_x\n",
      "82_x\n",
      "83_x\n",
      "84_x\n",
      "85_x\n",
      "86_x\n",
      "87_x\n",
      "88_x\n",
      "89_x\n",
      "90_x\n",
      "91_x\n",
      "92_x\n",
      "93_x\n",
      "94_x\n",
      "95_x\n",
      "96_x\n",
      "97_x\n",
      "98_x\n",
      "99_x\n",
      "100_x\n",
      "101_x\n",
      "102_x\n",
      "103_x\n",
      "104_x\n",
      "105_x\n",
      "106_x\n",
      "107_x\n",
      "108_x\n",
      "109_x\n",
      "110_x\n",
      "111_x\n",
      "112_x\n",
      "113_x\n",
      "114_x\n",
      "115_x\n",
      "116_x\n",
      "117_x\n",
      "118_x\n",
      "119_x\n",
      "120_x\n",
      "121_x\n",
      "122_x\n",
      "123_x\n",
      "124_x\n",
      "125_x\n",
      "126_x\n",
      "127_x\n",
      "128_x\n",
      "129_x\n",
      "130_x\n",
      "131_x\n",
      "132_x\n",
      "133_x\n",
      "134_x\n",
      "135_x\n",
      "136_x\n",
      "137_x\n",
      "138_x\n",
      "139_x\n",
      "140_x\n",
      "141_x\n",
      "142_x\n",
      "143_x\n",
      "144_x\n",
      "145_x\n",
      "146_x\n",
      "147_x\n",
      "148_x\n",
      "149_x\n",
      "150_x\n",
      "151_x\n",
      "152_x\n",
      "153_x\n",
      "154_x\n",
      "155_x\n",
      "156_x\n",
      "157_x\n",
      "158_x\n",
      "159_x\n",
      "160_x\n",
      "161_x\n",
      "162_x\n",
      "163_x\n",
      "164_x\n",
      "165_x\n",
      "166_x\n",
      "167_x\n",
      "168_x\n",
      "169_x\n",
      "170_x\n",
      "171_x\n",
      "172_x\n",
      "173_x\n",
      "174_x\n",
      "175_x\n",
      "176_x\n",
      "177_x\n",
      "178_x\n",
      "179_x\n",
      "180_x\n",
      "181_x\n",
      "182_x\n",
      "183_x\n",
      "184_x\n",
      "185_x\n",
      "186_x\n",
      "187_x\n",
      "188_x\n",
      "189_x\n",
      "190_x\n",
      "191_x\n",
      "192_x\n",
      "193_x\n",
      "194_x\n",
      "195_x\n",
      "196_x\n",
      "197_x\n",
      "198_x\n",
      "199_x\n",
      "200_x\n",
      "201_x\n",
      "202_x\n",
      "203_x\n",
      "204_x\n",
      "205_x\n",
      "206_x\n",
      "207_x\n",
      "208_x\n",
      "209_x\n",
      "210_x\n",
      "211_x\n",
      "212_x\n",
      "213_x\n",
      "214_x\n",
      "215_x\n",
      "216_x\n",
      "217_x\n",
      "218_x\n",
      "219_x\n",
      "220_x\n",
      "221_x\n",
      "222_x\n",
      "223_x\n",
      "224_x\n",
      "225_x\n",
      "226_x\n",
      "227_x\n",
      "228_x\n",
      "229_x\n",
      "230_x\n",
      "231_x\n",
      "232_x\n",
      "233_x\n",
      "234_x\n",
      "235_x\n",
      "236_x\n",
      "237_x\n",
      "238_x\n",
      "239_x\n",
      "240_x\n",
      "241_x\n",
      "242_x\n",
      "243_x\n",
      "244_x\n",
      "245_x\n",
      "246_x\n",
      "247_x\n",
      "248_x\n",
      "249_x\n",
      "250_x\n",
      "251_x\n",
      "252_x\n",
      "253_x\n",
      "254_x\n",
      "255_x\n",
      "256_x\n",
      "257_x\n",
      "258_x\n",
      "259_x\n",
      "260_x\n",
      "261_x\n",
      "262_x\n",
      "263_x\n",
      "264_x\n",
      "265_x\n",
      "266_x\n",
      "267_x\n",
      "268_x\n",
      "269_x\n",
      "270_x\n",
      "271_x\n",
      "272_x\n",
      "273_x\n",
      "274_x\n",
      "275_x\n",
      "276_x\n",
      "277_x\n",
      "278_x\n",
      "279_x\n",
      "280_x\n",
      "281_x\n",
      "282_x\n",
      "283_x\n",
      "284_x\n",
      "285_x\n",
      "286_x\n",
      "287_x\n",
      "288_x\n",
      "289_x\n",
      "290_x\n",
      "291_x\n",
      "292_x\n",
      "293_x\n",
      "294_x\n",
      "295_x\n",
      "296_x\n",
      "297_x\n",
      "298_x\n",
      "299_x\n",
      "300_x\n",
      "301_x\n",
      "302_x\n",
      "303_x\n",
      "304_x\n",
      "305_x\n",
      "306_x\n",
      "307_x\n",
      "308_x\n",
      "309_x\n",
      "310_x\n",
      "311_x\n",
      "312_x\n",
      "313_x\n",
      "314_x\n",
      "315_x\n",
      "316_x\n",
      "317_x\n",
      "318_x\n",
      "319_x\n",
      "320_x\n",
      "321_x\n",
      "322_x\n",
      "323_x\n",
      "324_x\n",
      "325_x\n",
      "326_x\n",
      "327_x\n",
      "328_x\n",
      "329_x\n",
      "330_x\n",
      "331_x\n",
      "332_x\n",
      "333_x\n",
      "334_x\n",
      "335_x\n",
      "336_x\n",
      "337_x\n",
      "338_x\n",
      "339_x\n",
      "340_x\n",
      "341_x\n",
      "342_x\n",
      "343_x\n",
      "344_x\n",
      "345_x\n",
      "346_x\n",
      "347_x\n",
      "348_x\n",
      "349_x\n",
      "350_x\n",
      "351_x\n",
      "352_x\n",
      "353_x\n",
      "354_x\n",
      "355_x\n",
      "356_x\n",
      "357_x\n",
      "358_x\n",
      "359_x\n",
      "360_x\n",
      "361_x\n",
      "362_x\n",
      "363_x\n",
      "364_x\n",
      "365_x\n",
      "366_x\n",
      "367_x\n",
      "368_x\n",
      "369_x\n",
      "370_x\n",
      "371_x\n",
      "372_x\n",
      "373_x\n",
      "374_x\n",
      "375_x\n",
      "376_x\n",
      "377_x\n",
      "378_x\n",
      "379_x\n",
      "380_x\n",
      "381_x\n",
      "382_x\n",
      "383_x\n",
      "0_y\n",
      "1_y\n",
      "2_y\n",
      "3_y\n",
      "4_y\n",
      "5_y\n",
      "6_y\n",
      "7_y\n",
      "8_y\n",
      "9_y\n",
      "10_y\n",
      "11_y\n",
      "12_y\n",
      "13_y\n",
      "14_y\n",
      "15_y\n",
      "16_y\n",
      "17_y\n",
      "18_y\n",
      "19_y\n",
      "20_y\n",
      "21_y\n",
      "22_y\n",
      "23_y\n",
      "24_y\n",
      "25_y\n",
      "26_y\n",
      "27_y\n",
      "28_y\n",
      "29_y\n",
      "30_y\n",
      "31_y\n",
      "32_y\n",
      "33_y\n",
      "34_y\n",
      "35_y\n",
      "36_y\n",
      "37_y\n",
      "38_y\n",
      "39_y\n",
      "40_y\n",
      "41_y\n",
      "42_y\n",
      "43_y\n",
      "44_y\n",
      "45_y\n",
      "46_y\n",
      "47_y\n",
      "48_y\n",
      "49_y\n",
      "50_y\n",
      "51_y\n",
      "52_y\n",
      "53_y\n",
      "54_y\n",
      "55_y\n",
      "56_y\n",
      "57_y\n",
      "58_y\n",
      "59_y\n",
      "60_y\n",
      "61_y\n",
      "62_y\n",
      "63_y\n",
      "64_y\n",
      "65_y\n",
      "66_y\n",
      "67_y\n",
      "68_y\n",
      "69_y\n",
      "70_y\n",
      "71_y\n",
      "72_y\n",
      "73_y\n",
      "74_y\n",
      "75_y\n",
      "76_y\n",
      "77_y\n",
      "78_y\n",
      "79_y\n",
      "80_y\n",
      "81_y\n",
      "82_y\n",
      "83_y\n",
      "84_y\n",
      "85_y\n",
      "86_y\n",
      "87_y\n",
      "88_y\n",
      "89_y\n",
      "90_y\n",
      "91_y\n",
      "92_y\n",
      "93_y\n",
      "94_y\n",
      "95_y\n",
      "96_y\n",
      "97_y\n",
      "98_y\n",
      "99_y\n",
      "100_y\n",
      "101_y\n",
      "102_y\n",
      "103_y\n",
      "104_y\n",
      "105_y\n",
      "106_y\n",
      "107_y\n",
      "108_y\n",
      "109_y\n",
      "110_y\n",
      "111_y\n",
      "112_y\n",
      "113_y\n",
      "114_y\n",
      "115_y\n",
      "116_y\n",
      "117_y\n",
      "118_y\n",
      "119_y\n",
      "120_y\n",
      "121_y\n",
      "122_y\n",
      "123_y\n",
      "124_y\n",
      "125_y\n",
      "126_y\n",
      "127_y\n",
      "128_y\n",
      "129_y\n",
      "130_y\n",
      "131_y\n",
      "132_y\n",
      "133_y\n",
      "134_y\n",
      "135_y\n",
      "136_y\n",
      "137_y\n",
      "138_y\n",
      "139_y\n",
      "140_y\n",
      "141_y\n",
      "142_y\n",
      "143_y\n",
      "144_y\n",
      "145_y\n",
      "146_y\n",
      "147_y\n",
      "148_y\n",
      "149_y\n",
      "150_y\n",
      "151_y\n",
      "152_y\n",
      "153_y\n",
      "154_y\n",
      "155_y\n",
      "156_y\n",
      "157_y\n",
      "158_y\n",
      "159_y\n",
      "160_y\n",
      "161_y\n",
      "162_y\n",
      "163_y\n",
      "164_y\n",
      "165_y\n",
      "166_y\n",
      "167_y\n",
      "168_y\n",
      "169_y\n",
      "170_y\n",
      "171_y\n",
      "172_y\n",
      "173_y\n",
      "174_y\n",
      "175_y\n",
      "176_y\n",
      "177_y\n",
      "178_y\n",
      "179_y\n",
      "180_y\n",
      "181_y\n",
      "182_y\n",
      "183_y\n",
      "184_y\n",
      "185_y\n",
      "186_y\n",
      "187_y\n",
      "188_y\n",
      "189_y\n",
      "190_y\n",
      "191_y\n",
      "192_y\n",
      "193_y\n",
      "194_y\n",
      "195_y\n",
      "196_y\n",
      "197_y\n",
      "198_y\n",
      "199_y\n",
      "200_y\n",
      "201_y\n",
      "202_y\n",
      "203_y\n",
      "204_y\n",
      "205_y\n",
      "206_y\n",
      "207_y\n",
      "208_y\n",
      "209_y\n",
      "210_y\n",
      "211_y\n",
      "212_y\n",
      "213_y\n",
      "214_y\n",
      "215_y\n",
      "216_y\n",
      "217_y\n",
      "218_y\n",
      "219_y\n",
      "220_y\n",
      "221_y\n",
      "222_y\n",
      "223_y\n",
      "224_y\n",
      "225_y\n",
      "226_y\n",
      "227_y\n",
      "228_y\n",
      "229_y\n",
      "230_y\n",
      "231_y\n",
      "232_y\n",
      "233_y\n",
      "234_y\n",
      "235_y\n",
      "236_y\n",
      "237_y\n",
      "238_y\n",
      "239_y\n",
      "240_y\n",
      "241_y\n",
      "242_y\n",
      "243_y\n",
      "244_y\n",
      "245_y\n",
      "246_y\n",
      "247_y\n",
      "248_y\n",
      "249_y\n",
      "250_y\n",
      "251_y\n",
      "252_y\n",
      "253_y\n",
      "254_y\n",
      "255_y\n",
      "256_y\n",
      "257_y\n",
      "258_y\n",
      "259_y\n",
      "260_y\n",
      "261_y\n",
      "262_y\n",
      "263_y\n",
      "264_y\n",
      "265_y\n",
      "266_y\n",
      "267_y\n",
      "268_y\n",
      "269_y\n",
      "270_y\n",
      "271_y\n",
      "272_y\n",
      "273_y\n",
      "274_y\n",
      "275_y\n",
      "276_y\n",
      "277_y\n",
      "278_y\n",
      "279_y\n",
      "280_y\n",
      "281_y\n",
      "282_y\n",
      "283_y\n",
      "284_y\n",
      "285_y\n",
      "286_y\n",
      "287_y\n",
      "288_y\n",
      "289_y\n",
      "290_y\n",
      "291_y\n",
      "292_y\n",
      "293_y\n",
      "294_y\n",
      "295_y\n",
      "296_y\n",
      "297_y\n",
      "298_y\n",
      "299_y\n",
      "300_y\n",
      "301_y\n",
      "302_y\n",
      "303_y\n",
      "304_y\n",
      "305_y\n",
      "306_y\n",
      "307_y\n",
      "308_y\n",
      "309_y\n",
      "310_y\n",
      "311_y\n",
      "312_y\n",
      "313_y\n",
      "314_y\n",
      "315_y\n",
      "316_y\n",
      "317_y\n",
      "318_y\n",
      "319_y\n",
      "320_y\n",
      "321_y\n",
      "322_y\n",
      "323_y\n",
      "324_y\n",
      "325_y\n",
      "326_y\n",
      "327_y\n",
      "328_y\n",
      "329_y\n",
      "330_y\n",
      "331_y\n",
      "332_y\n",
      "333_y\n",
      "334_y\n",
      "335_y\n",
      "336_y\n",
      "337_y\n",
      "338_y\n",
      "339_y\n",
      "340_y\n",
      "341_y\n",
      "342_y\n",
      "343_y\n",
      "344_y\n",
      "345_y\n",
      "346_y\n",
      "347_y\n",
      "348_y\n",
      "349_y\n",
      "350_y\n",
      "351_y\n",
      "352_y\n",
      "353_y\n",
      "354_y\n",
      "355_y\n",
      "356_y\n",
      "357_y\n",
      "358_y\n",
      "359_y\n",
      "360_y\n",
      "361_y\n",
      "362_y\n",
      "363_y\n",
      "364_y\n",
      "365_y\n",
      "366_y\n",
      "367_y\n",
      "368_y\n",
      "369_y\n",
      "370_y\n",
      "371_y\n",
      "372_y\n",
      "373_y\n",
      "374_y\n",
      "375_y\n",
      "376_y\n",
      "377_y\n",
      "378_y\n",
      "379_y\n",
      "380_y\n",
      "381_y\n",
      "382_y\n",
      "383_y\n"
     ]
    }
   ],
   "source": [
    "# after we read from sql table each entry was read it as a string\n",
    "# we convert all the features into numaric before we apply any model\n",
    "cols = list(data.columns)\n",
    "for i in cols:\n",
    "    data[i] = data[i].apply(pd.to_numeric)\n",
    "    print(i)"
   ]
  },
  {
   "cell_type": "code",
   "execution_count": 19,
   "metadata": {
    "colab": {},
    "colab_type": "code",
    "id": "_LpfQwc9tASJ"
   },
   "outputs": [],
   "source": [
    "# https://stackoverflow.com/questions/7368789/convert-all-strings-in-a-list-to-int\n",
    "y_true = list(map(int, y_true.values))"
   ]
  },
  {
   "cell_type": "markdown",
   "metadata": {
    "colab_type": "text",
    "id": "CuMTqWGutASO"
   },
   "source": [
    "<h2> 4.3 Random train test split( 70:30) </h2>"
   ]
  },
  {
   "cell_type": "code",
   "execution_count": 20,
   "metadata": {
    "colab": {},
    "colab_type": "code",
    "id": "3Rat2obGtASP"
   },
   "outputs": [],
   "source": [
    "X_train,X_test, y_train, y_test = train_test_split(data, y_true, stratify=y_true, test_size=0.3)"
   ]
  },
  {
   "cell_type": "code",
   "execution_count": 21,
   "metadata": {
    "colab": {},
    "colab_type": "code",
    "id": "1Iw9zCHqtASS",
    "outputId": "910b684b-0876-4dd8-e0d9-457846236833"
   },
   "outputs": [
    {
     "name": "stdout",
     "output_type": "stream",
     "text": [
      "Number of data points in train data : (70000, 794)\n",
      "Number of data points in test data : (30000, 794)\n"
     ]
    }
   ],
   "source": [
    "print(\"Number of data points in train data :\",X_train.shape)\n",
    "print(\"Number of data points in test data :\",X_test.shape)"
   ]
  },
  {
   "cell_type": "code",
   "execution_count": 22,
   "metadata": {
    "colab": {},
    "colab_type": "code",
    "id": "0oDV15LJtASY",
    "outputId": "70a1e4eb-3f31-4f1e-a53b-ad972978505d"
   },
   "outputs": [
    {
     "name": "stdout",
     "output_type": "stream",
     "text": [
      "---------- Distribution of output variable in train data ----------\n",
      "Class 0:  0.6285571428571428 Class 1:  0.37144285714285713\n",
      "---------- Distribution of output variable in train data ----------\n",
      "Class 0:  0.37146666666666667 Class 1:  0.37146666666666667\n"
     ]
    }
   ],
   "source": [
    "print(\"-\"*10, \"Distribution of output variable in train data\", \"-\"*10)\n",
    "train_distr = Counter(y_train)\n",
    "train_len = len(y_train)\n",
    "print(\"Class 0: \",int(train_distr[0])/train_len,\"Class 1: \", int(train_distr[1])/train_len)\n",
    "print(\"-\"*10, \"Distribution of output variable in train data\", \"-\"*10)\n",
    "test_distr = Counter(y_test)\n",
    "test_len = len(y_test)\n",
    "print(\"Class 0: \",int(test_distr[1])/test_len, \"Class 1: \",int(test_distr[1])/test_len)"
   ]
  },
  {
   "cell_type": "code",
   "execution_count": 23,
   "metadata": {
    "colab": {},
    "colab_type": "code",
    "id": "XfxcPT6jtASg"
   },
   "outputs": [],
   "source": [
    "# This function plots the confusion matrices given y_i, y_i_hat.\n",
    "def plot_confusion_matrix(test_y, predict_y):\n",
    "    C = confusion_matrix(test_y, predict_y)\n",
    "    # C = 9,9 matrix, each cell (i,j) represents number of points of class i are predicted class j\n",
    "    \n",
    "    A =(((C.T)/(C.sum(axis=1))).T)\n",
    "    #divid each element of the confusion matrix with the sum of elements in that column\n",
    "    \n",
    "    # C = [[1, 2],\n",
    "    #     [3, 4]]\n",
    "    # C.T = [[1, 3],\n",
    "    #        [2, 4]]\n",
    "    # C.sum(axis = 1)  axis=0 corresonds to columns and axis=1 corresponds to rows in two diamensional array\n",
    "    # C.sum(axix =1) = [[3, 7]]\n",
    "    # ((C.T)/(C.sum(axis=1))) = [[1/3, 3/7]\n",
    "    #                           [2/3, 4/7]]\n",
    "\n",
    "    # ((C.T)/(C.sum(axis=1))).T = [[1/3, 2/3]\n",
    "    #                           [3/7, 4/7]]\n",
    "    # sum of row elements = 1\n",
    "    \n",
    "    B =(C/C.sum(axis=0))\n",
    "    #divid each element of the confusion matrix with the sum of elements in that row\n",
    "    # C = [[1, 2],\n",
    "    #     [3, 4]]\n",
    "    # C.sum(axis = 0)  axis=0 corresonds to columns and axis=1 corresponds to rows in two diamensional array\n",
    "    # C.sum(axix =0) = [[4, 6]]\n",
    "    # (C/C.sum(axis=0)) = [[1/4, 2/6],\n",
    "    #                      [3/4, 4/6]] \n",
    "    plt.figure(figsize=(20,4))\n",
    "    \n",
    "    labels = [1,2]\n",
    "    # representing A in heatmap format\n",
    "    cmap=sns.light_palette(\"blue\")\n",
    "    plt.subplot(1, 3, 1)\n",
    "    sns.heatmap(C, annot=True, cmap=cmap, fmt=\".3f\", xticklabels=labels, yticklabels=labels)\n",
    "    plt.xlabel('Predicted Class')\n",
    "    plt.ylabel('Original Class')\n",
    "    plt.title(\"Confusion matrix\")\n",
    "    \n",
    "    plt.subplot(1, 3, 2)\n",
    "    sns.heatmap(B, annot=True, cmap=cmap, fmt=\".3f\", xticklabels=labels, yticklabels=labels)\n",
    "    plt.xlabel('Predicted Class')\n",
    "    plt.ylabel('Original Class')\n",
    "    plt.title(\"Precision matrix\")\n",
    "    \n",
    "    plt.subplot(1, 3, 3)\n",
    "    # representing B in heatmap format\n",
    "    sns.heatmap(A, annot=True, cmap=cmap, fmt=\".3f\", xticklabels=labels, yticklabels=labels)\n",
    "    plt.xlabel('Predicted Class')\n",
    "    plt.ylabel('Original Class')\n",
    "    plt.title(\"Recall matrix\")\n",
    "    \n",
    "    plt.show()"
   ]
  },
  {
   "cell_type": "markdown",
   "metadata": {
    "colab_type": "text",
    "id": "UStQJ5F_tASk"
   },
   "source": [
    "<h2> 4.4 Building a random model (Finding worst-case log-loss) </h2>"
   ]
  },
  {
   "cell_type": "code",
   "execution_count": 24,
   "metadata": {
    "colab": {},
    "colab_type": "code",
    "id": "qwMDqcU7tASl",
    "outputId": "c1e90d53-25ec-445b-e33a-299538520e32"
   },
   "outputs": [
    {
     "name": "stdout",
     "output_type": "stream",
     "text": [
      "Log loss on Test Data using Random Model 0.8855909499345608\n"
     ]
    },
    {
     "data": {
      "image/png": "[encoded data removed]",
      "text/plain": [
       "<Figure size 1440x288 with 6 Axes>"
      ]
     },
     "metadata": {
      "needs_background": "light"
     },
     "output_type": "display_data"
    }
   ],
   "source": [
    "# we need to generate 9 numbers and the sum of numbers should be 1\n",
    "# one solution is to genarate 9 numbers and divide each of the numbers by their sum\n",
    "# ref: https://stackoverflow.com/a/18662466/4084039\n",
    "# we create a output array that has exactly same size as the CV data\n",
    "predicted_y = np.zeros((test_len,2))\n",
    "for i in range(test_len):\n",
    "    rand_probs = np.random.rand(1,2)\n",
    "    predicted_y[i] = ((rand_probs/sum(sum(rand_probs)))[0])\n",
    "print(\"Log loss on Test Data using Random Model\",log_loss(y_test, predicted_y, eps=1e-15))\n",
    "\n",
    "predicted_y =np.argmax(predicted_y, axis=1)\n",
    "plot_confusion_matrix(y_test, predicted_y)"
   ]
  },
  {
   "cell_type": "markdown",
   "metadata": {
    "colab_type": "text",
    "id": "YgY29g_qtASq"
   },
   "source": [
    "<h2> 4.4 Logistic Regression with hyperparameter tuning </h2>"
   ]
  },
  {
   "cell_type": "code",
   "execution_count": null,
   "metadata": {
    "colab": {},
    "colab_type": "code",
    "id": "Wb2tOE3GtASr",
    "outputId": "d7e4fc88-7d4e-4313-cda7-462a2409292e"
   },
   "outputs": [
    {
     "name": "stdout",
     "output_type": "stream",
     "text": [
      "For values of alpha =  1e-05 The log loss is: 0.592800211149\n",
      "For values of alpha =  0.0001 The log loss is: 0.532351700629\n",
      "For values of alpha =  0.001 The log loss is: 0.527562275995\n",
      "For values of alpha =  0.01 The log loss is: 0.534535408885\n",
      "For values of alpha =  0.1 The log loss is: 0.525117052926\n",
      "For values of alpha =  1 The log loss is: 0.520035530431\n",
      "For values of alpha =  10 The log loss is: 0.521097925307\n"
     ]
    },
    {
     "data": {
      "image/png": "[encoded data removed]",
      "text/plain": [
       "<matplotlib.figure.Figure at 0x25667090eb8>"
      ]
     },
     "metadata": {
      "tags": []
     },
     "output_type": "display_data"
    },
    {
     "name": "stdout",
     "output_type": "stream",
     "text": [
      "For values of best alpha =  1 The train log loss is: 0.513842874233\n",
      "For values of best alpha =  1 The test log loss is: 0.520035530431\n",
      "Total number of data points : 30000\n"
     ]
    },
    {
     "data": {
      "image/png": "[encoded data removed]",
      "text/plain": [
       "<matplotlib.figure.Figure at 0x256793c19b0>"
      ]
     },
     "metadata": {
      "tags": []
     },
     "output_type": "display_data"
    }
   ],
   "source": [
    "alpha = [10 ** x for x in range(-5, 2)] # hyperparam for SGD classifier.\n",
    "\n",
    "# read more about SGDClassifier() at http://scikit-learn.org/stable/modules/generated/sklearn.linear_model.SGDClassifier.html\n",
    "# ------------------------------\n",
    "# default parameters\n",
    "# SGDClassifier(loss=’hinge’, penalty=’l2’, alpha=0.0001, l1_ratio=0.15, fit_intercept=True, max_iter=None, tol=None, \n",
    "# shuffle=True, verbose=0, epsilon=0.1, n_jobs=1, random_state=None, learning_rate=’optimal’, eta0=0.0, power_t=0.5, \n",
    "# class_weight=None, warm_start=False, average=False, n_iter=None)\n",
    "\n",
    "# some of methods\n",
    "# fit(X, y[, coef_init, intercept_init, …])\tFit linear model with Stochastic Gradient Descent.\n",
    "# predict(X)\tPredict class labels for samples in X.\n",
    "\n",
    "\n",
    "log_error_array=[]\n",
    "for i in alpha:\n",
    "    clf = SGDClassifier(alpha=i, penalty='l2', loss='log', random_state=42)\n",
    "    clf.fit(X_train, y_train)\n",
    "    sig_clf = CalibratedClassifierCV(clf, method=\"sigmoid\")\n",
    "    sig_clf.fit(X_train, y_train)\n",
    "    predict_y = sig_clf.predict_proba(X_test)\n",
    "    log_error_array.append(log_loss(y_test, predict_y, labels=clf.classes_, eps=1e-15))\n",
    "    print('For values of alpha = ', i, \"The log loss is:\",log_loss(y_test, predict_y, labels=clf.classes_, eps=1e-15))\n",
    "\n",
    "fig, ax = plt.subplots()\n",
    "ax.plot(alpha, log_error_array,c='g')\n",
    "for i, txt in enumerate(np.round(log_error_array,3)):\n",
    "    ax.annotate((alpha[i],np.round(txt,3)), (alpha[i],log_error_array[i]))\n",
    "plt.grid()\n",
    "plt.title(\"Cross Validation Error for each alpha\")\n",
    "plt.xlabel(\"Alpha i's\")\n",
    "plt.ylabel(\"Error measure\")\n",
    "plt.show()\n",
    "\n",
    "\n",
    "best_alpha = np.argmin(log_error_array)\n",
    "clf = SGDClassifier(alpha=alpha[best_alpha], penalty='l2', loss='log', random_state=42)\n",
    "clf.fit(X_train, y_train)\n",
    "sig_clf = CalibratedClassifierCV(clf, method=\"sigmoid\")\n",
    "sig_clf.fit(X_train, y_train)\n",
    "\n",
    "predict_y = sig_clf.predict_proba(X_train)\n",
    "print('For values of best alpha = ', alpha[best_alpha], \"The train log loss is:\",log_loss(y_train, predict_y, labels=clf.classes_, eps=1e-15))\n",
    "predict_y = sig_clf.predict_proba(X_test)\n",
    "print('For values of best alpha = ', alpha[best_alpha], \"The test log loss is:\",log_loss(y_test, predict_y, labels=clf.classes_, eps=1e-15))\n",
    "predicted_y =np.argmax(predict_y,axis=1)\n",
    "print(\"Total number of data points :\", len(predicted_y))\n",
    "plot_confusion_matrix(y_test, predicted_y)"
   ]
  },
  {
   "cell_type": "markdown",
   "metadata": {
    "colab_type": "text",
    "id": "ouQSEnr3tASy"
   },
   "source": [
    "<h2> 4.5 Linear SVM with hyperparameter tuning </h2>"
   ]
  },
  {
   "cell_type": "code",
   "execution_count": null,
   "metadata": {
    "colab": {},
    "colab_type": "code",
    "id": "AOFfZ5PLtAS0",
    "outputId": "d31eb598-e275-48cb-c49b-98e9eb76d8ba"
   },
   "outputs": [
    {
     "name": "stdout",
     "output_type": "stream",
     "text": [
      "For values of alpha =  1e-05 The log loss is: 0.657611721261\n",
      "For values of alpha =  0.0001 The log loss is: 0.489669093534\n",
      "For values of alpha =  0.001 The log loss is: 0.521829068562\n",
      "For values of alpha =  0.01 The log loss is: 0.566295616914\n",
      "For values of alpha =  0.1 The log loss is: 0.599957866217\n",
      "For values of alpha =  1 The log loss is: 0.635059427016\n",
      "For values of alpha =  10 The log loss is: 0.654159467907\n"
     ]
    },
    {
     "data": {
      "image/png": "[encoded data removed]",
      "text/plain": [
       "<matplotlib.figure.Figure at 0x2568b154438>"
      ]
     },
     "metadata": {
      "tags": []
     },
     "output_type": "display_data"
    },
    {
     "name": "stdout",
     "output_type": "stream",
     "text": [
      "For values of best alpha =  0.0001 The train log loss is: 0.478054677285\n",
      "For values of best alpha =  0.0001 The test log loss is: 0.489669093534\n",
      "Total number of data points : 30000\n"
     ]
    },
    {
     "data": {
      "image/png": "[encoded data removed]",
      "text/plain": [
       "<matplotlib.figure.Figure at 0x2567423deb8>"
      ]
     },
     "metadata": {
      "tags": []
     },
     "output_type": "display_data"
    }
   ],
   "source": [
    "alpha = [10 ** x for x in range(-5, 2)] # hyperparam for SGD classifier.\n",
    "\n",
    "# read more about SGDClassifier() at http://scikit-learn.org/stable/modules/generated/sklearn.linear_model.SGDClassifier.html\n",
    "# ------------------------------\n",
    "# default parameters\n",
    "# SGDClassifier(loss=’hinge’, penalty=’l2’, alpha=0.0001, l1_ratio=0.15, fit_intercept=True, max_iter=None, tol=None, \n",
    "# shuffle=True, verbose=0, epsilon=0.1, n_jobs=1, random_state=None, learning_rate=’optimal’, eta0=0.0, power_t=0.5, \n",
    "# class_weight=None, warm_start=False, average=False, n_iter=None)\n",
    "\n",
    "# some of methods\n",
    "# fit(X, y[, coef_init, intercept_init, …])\tFit linear model with Stochastic Gradient Descent.\n",
    "# predict(X)\tPredict class labels for samples in X.\n",
    "\n",
    "#-------------------------------\n",
    "# video link: \n",
    "#------------------------------\n",
    "\n",
    "\n",
    "log_error_array=[]\n",
    "for i in alpha:\n",
    "    clf = SGDClassifier(alpha=i, penalty='l1', loss='hinge', random_state=42)\n",
    "    clf.fit(X_train, y_train)\n",
    "    sig_clf = CalibratedClassifierCV(clf, method=\"sigmoid\")\n",
    "    sig_clf.fit(X_train, y_train)\n",
    "    predict_y = sig_clf.predict_proba(X_test)\n",
    "    log_error_array.append(log_loss(y_test, predict_y, labels=clf.classes_, eps=1e-15))\n",
    "    print('For values of alpha = ', i, \"The log loss is:\",log_loss(y_test, predict_y, labels=clf.classes_, eps=1e-15))\n",
    "\n",
    "fig, ax = plt.subplots()\n",
    "ax.plot(alpha, log_error_array,c='g')\n",
    "for i, txt in enumerate(np.round(log_error_array,3)):\n",
    "    ax.annotate((alpha[i],np.round(txt,3)), (alpha[i],log_error_array[i]))\n",
    "plt.grid()\n",
    "plt.title(\"Cross Validation Error for each alpha\")\n",
    "plt.xlabel(\"Alpha i's\")\n",
    "plt.ylabel(\"Error measure\")\n",
    "plt.show()\n",
    "\n",
    "\n",
    "best_alpha = np.argmin(log_error_array)\n",
    "clf = SGDClassifier(alpha=alpha[best_alpha], penalty='l1', loss='hinge', random_state=42)\n",
    "clf.fit(X_train, y_train)\n",
    "sig_clf = CalibratedClassifierCV(clf, method=\"sigmoid\")\n",
    "sig_clf.fit(X_train, y_train)\n",
    "\n",
    "predict_y = sig_clf.predict_proba(X_train)\n",
    "print('For values of best alpha = ', alpha[best_alpha], \"The train log loss is:\",log_loss(y_train, predict_y, labels=clf.classes_, eps=1e-15))\n",
    "predict_y = sig_clf.predict_proba(X_test)\n",
    "print('For values of best alpha = ', alpha[best_alpha], \"The test log loss is:\",log_loss(y_test, predict_y, labels=clf.classes_, eps=1e-15))\n",
    "predicted_y =np.argmax(predict_y,axis=1)\n",
    "print(\"Total number of data points :\", len(predicted_y))\n",
    "plot_confusion_matrix(y_test, predicted_y)"
   ]
  },
  {
   "cell_type": "markdown",
   "metadata": {
    "colab_type": "text",
    "id": "ZhTJgclztAS6"
   },
   "source": [
    "<h2> 4.6 XGBoost </h2>"
   ]
  },
  {
   "cell_type": "code",
   "execution_count": null,
   "metadata": {
    "colab": {},
    "colab_type": "code",
    "id": "9U367-xetAS7",
    "outputId": "167e8588-2ac4-4c6d-ac22-f56a2fce5657"
   },
   "outputs": [
    {
     "name": "stdout",
     "output_type": "stream",
     "text": [
      "[0]\ttrain-logloss:0.684819\tvalid-logloss:0.684845\n",
      "Multiple eval metrics have been passed: 'valid-logloss' will be used for early stopping.\n",
      "\n",
      "Will train until valid-logloss hasn't improved in 20 rounds.\n",
      "[10]\ttrain-logloss:0.61583\tvalid-logloss:0.616104\n",
      "[20]\ttrain-logloss:0.564616\tvalid-logloss:0.565273\n",
      "[30]\ttrain-logloss:0.525758\tvalid-logloss:0.52679\n",
      "[40]\ttrain-logloss:0.496661\tvalid-logloss:0.498021\n",
      "[50]\ttrain-logloss:0.473563\tvalid-logloss:0.475182\n",
      "[60]\ttrain-logloss:0.455315\tvalid-logloss:0.457186\n",
      "[70]\ttrain-logloss:0.440442\tvalid-logloss:0.442482\n",
      "[80]\ttrain-logloss:0.428424\tvalid-logloss:0.430795\n",
      "[90]\ttrain-logloss:0.418803\tvalid-logloss:0.421447\n",
      "[100]\ttrain-logloss:0.41069\tvalid-logloss:0.413583\n",
      "[110]\ttrain-logloss:0.403831\tvalid-logloss:0.40693\n",
      "[120]\ttrain-logloss:0.398076\tvalid-logloss:0.401402\n",
      "[130]\ttrain-logloss:0.393305\tvalid-logloss:0.396851\n",
      "[140]\ttrain-logloss:0.38913\tvalid-logloss:0.392952\n",
      "[150]\ttrain-logloss:0.385469\tvalid-logloss:0.389521\n",
      "[160]\ttrain-logloss:0.382327\tvalid-logloss:0.386667\n",
      "[170]\ttrain-logloss:0.379541\tvalid-logloss:0.384148\n",
      "[180]\ttrain-logloss:0.377014\tvalid-logloss:0.381932\n",
      "[190]\ttrain-logloss:0.374687\tvalid-logloss:0.379883\n",
      "[200]\ttrain-logloss:0.372585\tvalid-logloss:0.378068\n",
      "[210]\ttrain-logloss:0.370615\tvalid-logloss:0.376367\n",
      "[220]\ttrain-logloss:0.368559\tvalid-logloss:0.374595\n",
      "[230]\ttrain-logloss:0.366545\tvalid-logloss:0.372847\n",
      "[240]\ttrain-logloss:0.364708\tvalid-logloss:0.371311\n",
      "[250]\ttrain-logloss:0.363021\tvalid-logloss:0.369886\n",
      "[260]\ttrain-logloss:0.36144\tvalid-logloss:0.368673\n",
      "[270]\ttrain-logloss:0.359899\tvalid-logloss:0.367421\n",
      "[280]\ttrain-logloss:0.358465\tvalid-logloss:0.366395\n",
      "[290]\ttrain-logloss:0.357128\tvalid-logloss:0.365361\n",
      "[300]\ttrain-logloss:0.355716\tvalid-logloss:0.364315\n",
      "[310]\ttrain-logloss:0.354425\tvalid-logloss:0.363403\n",
      "[320]\ttrain-logloss:0.353276\tvalid-logloss:0.362595\n",
      "[330]\ttrain-logloss:0.352084\tvalid-logloss:0.361823\n",
      "[340]\ttrain-logloss:0.351051\tvalid-logloss:0.361167\n",
      "[350]\ttrain-logloss:0.349867\tvalid-logloss:0.36043\n",
      "[360]\ttrain-logloss:0.348829\tvalid-logloss:0.359773\n",
      "[370]\ttrain-logloss:0.347689\tvalid-logloss:0.359019\n",
      "[380]\ttrain-logloss:0.346607\tvalid-logloss:0.358311\n",
      "[390]\ttrain-logloss:0.345568\tvalid-logloss:0.357674\n",
      "The test log loss is: 0.357054433715\n"
     ]
    }
   ],
   "source": [
    "import xgboost as xgb\n",
    "params = {}\n",
    "params['objective'] = 'binary:logistic'\n",
    "params['eval_metric'] = 'logloss'\n",
    "params['eta'] = 0.02\n",
    "params['max_depth'] = 4\n",
    "\n",
    "d_train = xgb.DMatrix(X_train, label=y_train)\n",
    "d_test = xgb.DMatrix(X_test, label=y_test)\n",
    "\n",
    "watchlist = [(d_train, 'train'), (d_test, 'valid')]\n",
    "\n",
    "bst = xgb.train(params, d_train, 400, watchlist, early_stopping_rounds=20, verbose_eval=10)\n",
    "\n",
    "xgdmat = xgb.DMatrix(X_train,y_train)\n",
    "predict_y = bst.predict(d_test)\n",
    "print(\"The test log loss is:\",log_loss(y_test, predict_y, labels=clf.classes_, eps=1e-15))"
   ]
  },
  {
   "cell_type": "code",
   "execution_count": null,
   "metadata": {
    "colab": {},
    "colab_type": "code",
    "id": "6U5b17AatAS_",
    "outputId": "ca83b680-023b-4bc5-f499-8d8d85c2ff5e"
   },
   "outputs": [
    {
     "name": "stdout",
     "output_type": "stream",
     "text": [
      "Total number of data points : 30000\n"
     ]
    },
    {
     "data": {
      "image/png": "[encoded data removed]",
      "text/plain": [
       "<matplotlib.figure.Figure at 0x2567e903cf8>"
      ]
     },
     "metadata": {
      "tags": []
     },
     "output_type": "display_data"
    }
   ],
   "source": [
    "predicted_y =np.array(predict_y>0.5,dtype=int)\n",
    "print(\"Total number of data points :\", len(predicted_y))\n",
    "plot_confusion_matrix(y_test, predicted_y)"
   ]
  },
  {
   "cell_type": "markdown",
   "metadata": {
    "colab_type": "text",
    "id": "WmiIgHOJtATF"
   },
   "source": [
    "<h1> 5. Assignments </h1>"
   ]
  },
  {
   "cell_type": "markdown",
   "metadata": {},
   "source": [
    "<h1>5.1 Hyperparameter tune XgBoost using RandomSearch to reduce the log-loss.</h1>"
   ]
  },
  {
   "cell_type": "code",
   "execution_count": 26,
   "metadata": {},
   "outputs": [],
   "source": [
    "from xgboost import XGBClassifier"
   ]
  },
  {
   "cell_type": "code",
   "execution_count": 30,
   "metadata": {},
   "outputs": [
    {
     "data": {
      "text/plain": [
       "RandomizedSearchCV(cv=2, error_score='raise-deprecating',\n",
       "          estimator=XGBClassifier(base_score=0.5, booster='gbtree', colsample_bylevel=1,\n",
       "       colsample_bytree=1, gamma=0, learning_rate=0.1, max_delta_step=0,\n",
       "       max_depth=3, min_child_weight=1, missing=None, n_estimators=100,\n",
       "       n_jobs=1, nthread=None, objective='binary:logistic', random_state=0,\n",
       "       reg_alpha=0, reg_lambda=1, scale_pos_weight=1, seed=None,\n",
       "       silent=True, subsample=1),\n",
       "          fit_params=None, iid='warn', n_iter=10, n_jobs=-1,\n",
       "          param_distributions={'max_depth': [3, 5, 7, 9], 'n_estimators': [50, 100, 150, 200], 'gamma': [0, 0.5, 1, 1.5]},\n",
       "          pre_dispatch='2*n_jobs', random_state=None, refit=True,\n",
       "          return_train_score='warn', scoring='neg_log_loss', verbose=0)"
      ]
     },
     "execution_count": 30,
     "metadata": {},
     "output_type": "execute_result"
    }
   ],
   "source": [
    "params = {\n",
    "            'max_depth': [3, 5, 7, 9],\n",
    "            'n_estimators': [50, 100, 150, 200],\n",
    "            'gamma': [0, 0.5, 1, 1.5]\n",
    "        }\n",
    "clf = XGBClassifier()\n",
    "model = RandomizedSearchCV(clf, param_distributions=params, n_iter=10 ,scoring='neg_log_loss', n_jobs=-1,cv=2)\n",
    "model.fit(X_train,y_train)"
   ]
  },
  {
   "cell_type": "code",
   "execution_count": 31,
   "metadata": {},
   "outputs": [
    {
     "data": {
      "text/plain": [
       "{'mean_fit_time': array([2360.0496639 , 1134.48589087, 1202.2834655 , 1130.65952277,\n",
       "        1022.83049881, 2268.01176369, 1186.59229422, 1547.41959941,\n",
       "        1016.45078993, 1237.77148926]),\n",
       " 'std_fit_time': array([9.6431216 , 1.78927088, 4.15662205, 2.2662065 , 0.79484022,\n",
       "        1.48558056, 6.49746752, 0.98548687, 1.81973553, 1.76549852]),\n",
       " 'mean_score_time': array([5.37959254, 4.59566438, 4.8626771 , 4.12289977, 4.04454553,\n",
       "        3.19146872, 3.80817437, 1.69045973, 3.15207446, 2.16222262]),\n",
       " 'std_score_time': array([0.1076833 , 0.34255135, 0.26727867, 0.34724092, 0.14387643,\n",
       "        0.10771203, 0.01041865, 0.14861989, 0.11718714, 0.1476059 ]),\n",
       " 'param_n_estimators': masked_array(data=[200, 150, 100, 150, 50, 150, 100, 100, 100, 100],\n",
       "              mask=[False, False, False, False, False, False, False, False,\n",
       "                    False, False],\n",
       "        fill_value='?',\n",
       "             dtype=object),\n",
       " 'param_max_depth': masked_array(data=[5, 3, 5, 3, 9, 7, 5, 9, 5, 7],\n",
       "              mask=[False, False, False, False, False, False, False, False,\n",
       "                    False, False],\n",
       "        fill_value='?',\n",
       "             dtype=object),\n",
       " 'param_gamma': masked_array(data=[1.5, 0.5, 1, 0, 0, 1.5, 0.5, 1.5, 1.5, 1.5],\n",
       "              mask=[False, False, False, False, False, False, False, False,\n",
       "                    False, False],\n",
       "        fill_value='?',\n",
       "             dtype=object),\n",
       " 'params': [{'n_estimators': 200, 'max_depth': 5, 'gamma': 1.5},\n",
       "  {'n_estimators': 150, 'max_depth': 3, 'gamma': 0.5},\n",
       "  {'n_estimators': 100, 'max_depth': 5, 'gamma': 1},\n",
       "  {'n_estimators': 150, 'max_depth': 3, 'gamma': 0},\n",
       "  {'n_estimators': 50, 'max_depth': 9, 'gamma': 0},\n",
       "  {'n_estimators': 150, 'max_depth': 7, 'gamma': 1.5},\n",
       "  {'n_estimators': 100, 'max_depth': 5, 'gamma': 0.5},\n",
       "  {'n_estimators': 100, 'max_depth': 9, 'gamma': 1.5},\n",
       "  {'n_estimators': 100, 'max_depth': 5, 'gamma': 1.5},\n",
       "  {'n_estimators': 100, 'max_depth': 7, 'gamma': 1.5}],\n",
       " 'split0_test_score': array([-0.34277003, -0.35650085, -0.34814581, -0.35650085, -0.3480516 ,\n",
       "        -0.34134497, -0.3483522 , -0.34469807, -0.34850239, -0.34274519]),\n",
       " 'split1_test_score': array([-0.33863249, -0.35439317, -0.3456291 , -0.35456913, -0.34416425,\n",
       "        -0.33691022, -0.34479744, -0.33967536, -0.34532162, -0.33964547]),\n",
       " 'mean_test_score': array([-0.34070132, -0.35544704, -0.34688749, -0.35553502, -0.34610798,\n",
       "        -0.33912766, -0.34657487, -0.34218679, -0.34691205, -0.34119537]),\n",
       " 'std_test_score': array([0.00206877, 0.00105384, 0.00125835, 0.00096586, 0.00194368,\n",
       "        0.00221737, 0.00177738, 0.00251136, 0.00159038, 0.00154986]),\n",
       " 'rank_test_score': array([ 2,  9,  7, 10,  5,  1,  6,  4,  8,  3]),\n",
       " 'split0_train_score': array([-0.22728453, -0.33135041, -0.290173  , -0.33135041, -0.19898051,\n",
       "        -0.13832794, -0.29010894, -0.09872262, -0.29088363, -0.198324  ]),\n",
       " 'split1_train_score': array([-0.22931261, -0.33402436, -0.29233311, -0.33423634, -0.20295332,\n",
       "        -0.14329355, -0.28897351, -0.10100039, -0.29279776, -0.20116537]),\n",
       " 'mean_train_score': array([-0.22829857, -0.33268739, -0.29125305, -0.33279337, -0.20096692,\n",
       "        -0.14081075, -0.28954122, -0.0998615 , -0.29184069, -0.19974469]),\n",
       " 'std_train_score': array([0.00101404, 0.00133698, 0.00108005, 0.00144296, 0.0019864 ,\n",
       "        0.0024828 , 0.00056771, 0.00113888, 0.00095706, 0.00142069])}"
      ]
     },
     "execution_count": 31,
     "metadata": {},
     "output_type": "execute_result"
    }
   ],
   "source": [
    "model.cv_results_"
   ]
  },
  {
   "cell_type": "code",
   "execution_count": 57,
   "metadata": {},
   "outputs": [
    {
     "name": "stdout",
     "output_type": "stream",
     "text": [
      "The best set of tuned parameters are: \n",
      "{'n_estimators': 150, 'max_depth': 7, 'gamma': 1.5}\n",
      "The best score achieved: \n",
      "0.3391276575213815\n"
     ]
    }
   ],
   "source": [
    "print(\"The best set of tuned parameters are: \")\n",
    "print(model.best_params_)\n",
    "print(\"The best score achieved: \")\n",
    "print(-model.best_score_)"
   ]
  },
  {
   "cell_type": "code",
   "execution_count": 75,
   "metadata": {},
   "outputs": [],
   "source": [
    "predict_y = model.best_estimator_.predict_proba(X_test)\n",
    "y_pred = model.best_estimator_.predict(X_test)"
   ]
  },
  {
   "cell_type": "code",
   "execution_count": null,
   "metadata": {},
   "outputs": [],
   "source": []
  },
  {
   "cell_type": "code",
   "execution_count": 76,
   "metadata": {},
   "outputs": [
    {
     "name": "stdout",
     "output_type": "stream",
     "text": [
      "The test log loss is: 0.333433050148069\n",
      "Total number of data points : 30000\n"
     ]
    },
    {
     "data": {
      "image/png": "[encoded data removed]",
      "text/plain": [
       "<Figure size 1440x288 with 6 Axes>"
      ]
     },
     "metadata": {
      "needs_background": "light"
     },
     "output_type": "display_data"
    }
   ],
   "source": [
    "print(\"The test log loss is:\",log_loss(y_test, predict_y))\n",
    "print(\"Total number of data points :\", len(predict_y))\n",
    "plot_confusion_matrix(y_test, y_pred)"
   ]
  },
  {
   "cell_type": "code",
   "execution_count": 77,
   "metadata": {},
   "outputs": [],
   "source": [
    "# MANUALLY TRYING OUT A MODEL (JUST FOR TESTING!!!!!!!!!!!!)"
   ]
  },
  {
   "cell_type": "code",
   "execution_count": 60,
   "metadata": {},
   "outputs": [
    {
     "data": {
      "text/plain": [
       "XGBClassifier(base_score=0.5, booster='gbtree', colsample_bylevel=1,\n",
       "       colsample_bytree=1, gamma=1.5, learning_rate=0.1, max_delta_step=0,\n",
       "       max_depth=7, min_child_weight=1, missing=None, n_estimators=150,\n",
       "       n_jobs=-1, nthread=None, objective='binary:logistic',\n",
       "       random_state=0, reg_alpha=0, reg_lambda=1, scale_pos_weight=1,\n",
       "       seed=None, silent=True, subsample=1)"
      ]
     },
     "execution_count": 60,
     "metadata": {},
     "output_type": "execute_result"
    }
   ],
   "source": [
    "model2 = XGBClassifier(max_depth=7, n_estimators=150, objective='binary:logistic', n_jobs=-1, gamma=1.5, )\n",
    "model2.fit(X_train, y_train)"
   ]
  },
  {
   "cell_type": "code",
   "execution_count": 78,
   "metadata": {},
   "outputs": [],
   "source": [
    "y_pred = model2.predict(X_test)\n",
    "predict_y = model2.predict_proba(X_test)"
   ]
  },
  {
   "cell_type": "code",
   "execution_count": 79,
   "metadata": {},
   "outputs": [
    {
     "name": "stdout",
     "output_type": "stream",
     "text": [
      "The test log loss is: 0.333433050148069\n",
      "Total number of data points : 30000\n"
     ]
    },
    {
     "data": {
      "image/png": "[encoded data removed]",
      "text/plain": [
       "<Figure size 1440x288 with 6 Axes>"
      ]
     },
     "metadata": {
      "needs_background": "light"
     },
     "output_type": "display_data"
    }
   ],
   "source": [
    "print(\"The test log loss is:\",log_loss(y_test, predict_y))\n",
    "print(\"Total number of data points :\", len(y_pred))\n",
    "plot_confusion_matrix(y_test, y_pred)"
   ]
  },
  {
   "cell_type": "code",
   "execution_count": null,
   "metadata": {},
   "outputs": [],
   "source": []
  },
  {
   "cell_type": "markdown",
   "metadata": {},
   "source": [
    "<h1>5.2 Modelling Using Tfidf vectors instead of Tfidf Avg Word2Vec</h1>"
   ]
  },
  {
   "cell_type": "markdown",
   "metadata": {},
   "source": [
    "<h3> tfidf preparation </h3"
   ]
  },
  {
   "cell_type": "code",
   "execution_count": 80,
   "metadata": {},
   "outputs": [],
   "source": [
    "# avoid decoding problems\n",
    "df = pd.read_csv(\"train.csv\")\n",
    " \n",
    "df['question1'] = df['question1'].apply(lambda x: str(x))\n",
    "df['question2'] = df['question2'].apply(lambda x: str(x))"
   ]
  },
  {
   "cell_type": "code",
   "execution_count": 83,
   "metadata": {},
   "outputs": [],
   "source": [
    "# Random Sampling 100k points\n",
    "sampled_df = df.sample(n=100000)"
   ]
  },
  {
   "cell_type": "code",
   "execution_count": 85,
   "metadata": {},
   "outputs": [],
   "source": [
    "#prepro_features_train.csv (Simple Preprocessing Feartures)\n",
    "#nlp_features_train.csv (NLP Features)\n",
    "if os.path.isfile('nlp_features_train.csv'):\n",
    "    dfnlp = pd.read_csv(\"nlp_features_train.csv\",encoding='latin-1')\n",
    "else:\n",
    "    print(\"download nlp_features_train.csv from drive or run previous notebook\")\n",
    "\n",
    "if os.path.isfile('df_fe_without_preprocessing_train.csv'):\n",
    "    dfppro = pd.read_csv(\"df_fe_without_preprocessing_train.csv\",encoding='latin-1')\n",
    "else:\n",
    "    print(\"download df_fe_without_preprocessing_train.csv from drive or run previous notebook\")"
   ]
  },
  {
   "cell_type": "code",
   "execution_count": 86,
   "metadata": {},
   "outputs": [],
   "source": [
    "df1 = dfnlp.drop(['qid1','qid2','question1','question2'],axis=1)\n",
    "df2 = dfppro.drop(['qid1','qid2','question1','question2','is_duplicate'],axis=1)"
   ]
  },
  {
   "cell_type": "code",
   "execution_count": 110,
   "metadata": {},
   "outputs": [],
   "source": [
    "dfq1 = df['question1']\n",
    "dfq2 = df['question2']"
   ]
  },
  {
   "cell_type": "code",
   "execution_count": 112,
   "metadata": {},
   "outputs": [
    {
     "data": {
      "text/html": [
       "<div>\n",
       "<style scoped>\n",
       "    .dataframe tbody tr th:only-of-type {\n",
       "        vertical-align: middle;\n",
       "    }\n",
       "\n",
       "    .dataframe tbody tr th {\n",
       "        vertical-align: top;\n",
       "    }\n",
       "\n",
       "    .dataframe thead th {\n",
       "        text-align: right;\n",
       "    }\n",
       "</style>\n",
       "<table border=\"1\" class=\"dataframe\">\n",
       "  <thead>\n",
       "    <tr style=\"text-align: right;\">\n",
       "      <th></th>\n",
       "      <th>id</th>\n",
       "      <th>is_duplicate</th>\n",
       "      <th>cwc_min</th>\n",
       "      <th>cwc_max</th>\n",
       "      <th>csc_min</th>\n",
       "      <th>csc_max</th>\n",
       "      <th>ctc_min</th>\n",
       "      <th>ctc_max</th>\n",
       "      <th>last_word_eq</th>\n",
       "      <th>first_word_eq</th>\n",
       "      <th>abs_len_diff</th>\n",
       "      <th>mean_len</th>\n",
       "      <th>token_set_ratio</th>\n",
       "      <th>token_sort_ratio</th>\n",
       "      <th>fuzz_ratio</th>\n",
       "      <th>fuzz_partial_ratio</th>\n",
       "      <th>longest_substr_ratio</th>\n",
       "    </tr>\n",
       "  </thead>\n",
       "  <tbody>\n",
       "    <tr>\n",
       "      <th>0</th>\n",
       "      <td>0</td>\n",
       "      <td>0</td>\n",
       "      <td>0.999980</td>\n",
       "      <td>0.833319</td>\n",
       "      <td>0.999983</td>\n",
       "      <td>0.999983</td>\n",
       "      <td>0.916659</td>\n",
       "      <td>0.785709</td>\n",
       "      <td>0.0</td>\n",
       "      <td>1.0</td>\n",
       "      <td>2.0</td>\n",
       "      <td>13.0</td>\n",
       "      <td>100</td>\n",
       "      <td>93</td>\n",
       "      <td>93</td>\n",
       "      <td>100</td>\n",
       "      <td>0.982759</td>\n",
       "    </tr>\n",
       "    <tr>\n",
       "      <th>1</th>\n",
       "      <td>1</td>\n",
       "      <td>0</td>\n",
       "      <td>0.799984</td>\n",
       "      <td>0.399996</td>\n",
       "      <td>0.749981</td>\n",
       "      <td>0.599988</td>\n",
       "      <td>0.699993</td>\n",
       "      <td>0.466664</td>\n",
       "      <td>0.0</td>\n",
       "      <td>1.0</td>\n",
       "      <td>5.0</td>\n",
       "      <td>12.5</td>\n",
       "      <td>86</td>\n",
       "      <td>63</td>\n",
       "      <td>66</td>\n",
       "      <td>75</td>\n",
       "      <td>0.596154</td>\n",
       "    </tr>\n",
       "  </tbody>\n",
       "</table>\n",
       "</div>"
      ],
      "text/plain": [
       "   id  is_duplicate   cwc_min   cwc_max   csc_min   csc_max   ctc_min  \\\n",
       "0   0             0  0.999980  0.833319  0.999983  0.999983  0.916659   \n",
       "1   1             0  0.799984  0.399996  0.749981  0.599988  0.699993   \n",
       "\n",
       "    ctc_max  last_word_eq  first_word_eq  abs_len_diff  mean_len  \\\n",
       "0  0.785709           0.0            1.0           2.0      13.0   \n",
       "1  0.466664           0.0            1.0           5.0      12.5   \n",
       "\n",
       "   token_set_ratio  token_sort_ratio  fuzz_ratio  fuzz_partial_ratio  \\\n",
       "0              100                93          93                 100   \n",
       "1               86                63          66                  75   \n",
       "\n",
       "   longest_substr_ratio  \n",
       "0              0.982759  \n",
       "1              0.596154  "
      ]
     },
     "execution_count": 112,
     "metadata": {},
     "output_type": "execute_result"
    }
   ],
   "source": [
    "df1.head(2)"
   ]
  },
  {
   "cell_type": "code",
   "execution_count": 114,
   "metadata": {},
   "outputs": [
    {
     "data": {
      "text/html": [
       "<div>\n",
       "<style scoped>\n",
       "    .dataframe tbody tr th:only-of-type {\n",
       "        vertical-align: middle;\n",
       "    }\n",
       "\n",
       "    .dataframe tbody tr th {\n",
       "        vertical-align: top;\n",
       "    }\n",
       "\n",
       "    .dataframe thead th {\n",
       "        text-align: right;\n",
       "    }\n",
       "</style>\n",
       "<table border=\"1\" class=\"dataframe\">\n",
       "  <thead>\n",
       "    <tr style=\"text-align: right;\">\n",
       "      <th></th>\n",
       "      <th>id</th>\n",
       "      <th>freq_qid1</th>\n",
       "      <th>freq_qid2</th>\n",
       "      <th>q1len</th>\n",
       "      <th>q2len</th>\n",
       "      <th>q1_n_words</th>\n",
       "      <th>q2_n_words</th>\n",
       "      <th>word_Common</th>\n",
       "      <th>word_Total</th>\n",
       "      <th>word_share</th>\n",
       "      <th>freq_q1+q2</th>\n",
       "      <th>freq_q1-q2</th>\n",
       "    </tr>\n",
       "  </thead>\n",
       "  <tbody>\n",
       "    <tr>\n",
       "      <th>0</th>\n",
       "      <td>0</td>\n",
       "      <td>1</td>\n",
       "      <td>1</td>\n",
       "      <td>66</td>\n",
       "      <td>57</td>\n",
       "      <td>14</td>\n",
       "      <td>12</td>\n",
       "      <td>10.0</td>\n",
       "      <td>23.0</td>\n",
       "      <td>0.434783</td>\n",
       "      <td>2</td>\n",
       "      <td>0</td>\n",
       "    </tr>\n",
       "    <tr>\n",
       "      <th>1</th>\n",
       "      <td>1</td>\n",
       "      <td>4</td>\n",
       "      <td>1</td>\n",
       "      <td>51</td>\n",
       "      <td>88</td>\n",
       "      <td>8</td>\n",
       "      <td>13</td>\n",
       "      <td>4.0</td>\n",
       "      <td>20.0</td>\n",
       "      <td>0.200000</td>\n",
       "      <td>5</td>\n",
       "      <td>3</td>\n",
       "    </tr>\n",
       "  </tbody>\n",
       "</table>\n",
       "</div>"
      ],
      "text/plain": [
       "   id  freq_qid1  freq_qid2  q1len  q2len  q1_n_words  q2_n_words  \\\n",
       "0   0          1          1     66     57          14          12   \n",
       "1   1          4          1     51     88           8          13   \n",
       "\n",
       "   word_Common  word_Total  word_share  freq_q1+q2  freq_q1-q2  \n",
       "0         10.0        23.0    0.434783           2           0  \n",
       "1          4.0        20.0    0.200000           5           3  "
      ]
     },
     "execution_count": 114,
     "metadata": {},
     "output_type": "execute_result"
    }
   ],
   "source": [
    "df2.head(2)"
   ]
  },
  {
   "cell_type": "code",
   "execution_count": 115,
   "metadata": {},
   "outputs": [
    {
     "data": {
      "text/plain": [
       "0    What is the step by step guide to invest in sh...\n",
       "1    What is the story of Kohinoor (Koh-i-Noor) Dia...\n",
       "Name: question1, dtype: object"
      ]
     },
     "execution_count": 115,
     "metadata": {},
     "output_type": "execute_result"
    }
   ],
   "source": [
    "dfq1.head(2)"
   ]
  },
  {
   "cell_type": "code",
   "execution_count": 117,
   "metadata": {},
   "outputs": [
    {
     "data": {
      "text/plain": [
       "0    What is the step by step guide to invest in sh...\n",
       "1    What would happen if the Indian government sto...\n",
       "Name: question2, dtype: object"
      ]
     },
     "execution_count": 117,
     "metadata": {},
     "output_type": "execute_result"
    }
   ],
   "source": [
    "dfq2.head(2)"
   ]
  },
  {
   "cell_type": "code",
   "execution_count": 123,
   "metadata": {},
   "outputs": [],
   "source": [
    "new_df = pd.concat([df1,df2,dfq1,dfq2],axis=1)"
   ]
  },
  {
   "cell_type": "code",
   "execution_count": 124,
   "metadata": {},
   "outputs": [
    {
     "data": {
      "text/plain": [
       "(404290, 31)"
      ]
     },
     "execution_count": 124,
     "metadata": {},
     "output_type": "execute_result"
    }
   ],
   "source": [
    "new_df.shape"
   ]
  },
  {
   "cell_type": "code",
   "execution_count": 125,
   "metadata": {},
   "outputs": [
    {
     "data": {
      "text/html": [
       "<div>\n",
       "<style scoped>\n",
       "    .dataframe tbody tr th:only-of-type {\n",
       "        vertical-align: middle;\n",
       "    }\n",
       "\n",
       "    .dataframe tbody tr th {\n",
       "        vertical-align: top;\n",
       "    }\n",
       "\n",
       "    .dataframe thead th {\n",
       "        text-align: right;\n",
       "    }\n",
       "</style>\n",
       "<table border=\"1\" class=\"dataframe\">\n",
       "  <thead>\n",
       "    <tr style=\"text-align: right;\">\n",
       "      <th></th>\n",
       "      <th>id</th>\n",
       "      <th>is_duplicate</th>\n",
       "      <th>cwc_min</th>\n",
       "      <th>cwc_max</th>\n",
       "      <th>csc_min</th>\n",
       "      <th>csc_max</th>\n",
       "      <th>ctc_min</th>\n",
       "      <th>ctc_max</th>\n",
       "      <th>last_word_eq</th>\n",
       "      <th>first_word_eq</th>\n",
       "      <th>...</th>\n",
       "      <th>q2len</th>\n",
       "      <th>q1_n_words</th>\n",
       "      <th>q2_n_words</th>\n",
       "      <th>word_Common</th>\n",
       "      <th>word_Total</th>\n",
       "      <th>word_share</th>\n",
       "      <th>freq_q1+q2</th>\n",
       "      <th>freq_q1-q2</th>\n",
       "      <th>question1</th>\n",
       "      <th>question2</th>\n",
       "    </tr>\n",
       "  </thead>\n",
       "  <tbody>\n",
       "    <tr>\n",
       "      <th>0</th>\n",
       "      <td>0</td>\n",
       "      <td>0</td>\n",
       "      <td>0.999980</td>\n",
       "      <td>0.833319</td>\n",
       "      <td>0.999983</td>\n",
       "      <td>0.999983</td>\n",
       "      <td>0.916659</td>\n",
       "      <td>0.785709</td>\n",
       "      <td>0.0</td>\n",
       "      <td>1.0</td>\n",
       "      <td>...</td>\n",
       "      <td>57</td>\n",
       "      <td>14</td>\n",
       "      <td>12</td>\n",
       "      <td>10.0</td>\n",
       "      <td>23.0</td>\n",
       "      <td>0.434783</td>\n",
       "      <td>2</td>\n",
       "      <td>0</td>\n",
       "      <td>What is the step by step guide to invest in sh...</td>\n",
       "      <td>What is the step by step guide to invest in sh...</td>\n",
       "    </tr>\n",
       "    <tr>\n",
       "      <th>1</th>\n",
       "      <td>1</td>\n",
       "      <td>0</td>\n",
       "      <td>0.799984</td>\n",
       "      <td>0.399996</td>\n",
       "      <td>0.749981</td>\n",
       "      <td>0.599988</td>\n",
       "      <td>0.699993</td>\n",
       "      <td>0.466664</td>\n",
       "      <td>0.0</td>\n",
       "      <td>1.0</td>\n",
       "      <td>...</td>\n",
       "      <td>88</td>\n",
       "      <td>8</td>\n",
       "      <td>13</td>\n",
       "      <td>4.0</td>\n",
       "      <td>20.0</td>\n",
       "      <td>0.200000</td>\n",
       "      <td>5</td>\n",
       "      <td>3</td>\n",
       "      <td>What is the story of Kohinoor (Koh-i-Noor) Dia...</td>\n",
       "      <td>What would happen if the Indian government sto...</td>\n",
       "    </tr>\n",
       "  </tbody>\n",
       "</table>\n",
       "<p>2 rows × 31 columns</p>\n",
       "</div>"
      ],
      "text/plain": [
       "   id  is_duplicate   cwc_min   cwc_max   csc_min   csc_max   ctc_min  \\\n",
       "0   0             0  0.999980  0.833319  0.999983  0.999983  0.916659   \n",
       "1   1             0  0.799984  0.399996  0.749981  0.599988  0.699993   \n",
       "\n",
       "    ctc_max  last_word_eq  first_word_eq  \\\n",
       "0  0.785709           0.0            1.0   \n",
       "1  0.466664           0.0            1.0   \n",
       "\n",
       "                         ...                          q2len  q1_n_words  \\\n",
       "0                        ...                             57          14   \n",
       "1                        ...                             88           8   \n",
       "\n",
       "   q2_n_words  word_Common  word_Total  word_share  freq_q1+q2  freq_q1-q2  \\\n",
       "0          12         10.0        23.0    0.434783           2           0   \n",
       "1          13          4.0        20.0    0.200000           5           3   \n",
       "\n",
       "                                           question1  \\\n",
       "0  What is the step by step guide to invest in sh...   \n",
       "1  What is the story of Kohinoor (Koh-i-Noor) Dia...   \n",
       "\n",
       "                                           question2  \n",
       "0  What is the step by step guide to invest in sh...  \n",
       "1  What would happen if the Indian government sto...  \n",
       "\n",
       "[2 rows x 31 columns]"
      ]
     },
     "execution_count": 125,
     "metadata": {},
     "output_type": "execute_result"
    }
   ],
   "source": [
    "new_df.head(2)"
   ]
  },
  {
   "cell_type": "code",
   "execution_count": 126,
   "metadata": {},
   "outputs": [],
   "source": [
    "sampled_df = new_df.sample(n=100000)"
   ]
  },
  {
   "cell_type": "code",
   "execution_count": 127,
   "metadata": {},
   "outputs": [
    {
     "data": {
      "text/plain": [
       "(100000, 31)"
      ]
     },
     "execution_count": 127,
     "metadata": {},
     "output_type": "execute_result"
    }
   ],
   "source": [
    "sampled_df.shape"
   ]
  },
  {
   "cell_type": "code",
   "execution_count": 134,
   "metadata": {},
   "outputs": [],
   "source": [
    "train_df = sampled_df.iloc[:70000,:]\n",
    "test_df = sampled_df.iloc[70000:,:]"
   ]
  },
  {
   "cell_type": "code",
   "execution_count": 135,
   "metadata": {},
   "outputs": [
    {
     "name": "stdout",
     "output_type": "stream",
     "text": [
      "Train df shape :\n",
      "(70000, 31)\n",
      "Test df shape :\n",
      "(30000, 31)\n"
     ]
    }
   ],
   "source": [
    "print(\"Train df shape :\")\n",
    "print(train_df.shape)\n",
    "print(\"Test df shape :\")\n",
    "print(test_df.shape)"
   ]
  },
  {
   "cell_type": "code",
   "execution_count": 136,
   "metadata": {},
   "outputs": [],
   "source": [
    "questions = list(train_df['question1'])+list(train_df['question2'])"
   ]
  },
  {
   "cell_type": "code",
   "execution_count": 138,
   "metadata": {},
   "outputs": [
    {
     "data": {
      "text/plain": [
       "TfidfVectorizer(analyzer='word', binary=False, decode_error='strict',\n",
       "        dtype=<class 'numpy.float64'>, encoding='utf-8', input='content',\n",
       "        lowercase=True, max_df=1.0, max_features=None, min_df=1,\n",
       "        ngram_range=(1, 1), norm='l2', preprocessor=None, smooth_idf=True,\n",
       "        stop_words=None, strip_accents=None, sublinear_tf=False,\n",
       "        token_pattern='(?u)\\\\b\\\\w\\\\w+\\\\b', tokenizer=None, use_idf=True,\n",
       "        vocabulary=None)"
      ]
     },
     "execution_count": 138,
     "metadata": {},
     "output_type": "execute_result"
    }
   ],
   "source": [
    "tfidf_vect = TfidfVectorizer()\n",
    "tfidf_vect.fit(questions)"
   ]
  },
  {
   "cell_type": "code",
   "execution_count": 140,
   "metadata": {},
   "outputs": [
    {
     "name": "stdout",
     "output_type": "stream",
     "text": [
      "No of features are:\n",
      "39417\n"
     ]
    }
   ],
   "source": [
    "print(\"No of features are:\")\n",
    "print(len(tfidf_vect.get_feature_names()))"
   ]
  },
  {
   "cell_type": "code",
   "execution_count": 172,
   "metadata": {},
   "outputs": [],
   "source": [
    "q1_train_vec = tfidf_vect.transform(train_df['question1'])"
   ]
  },
  {
   "cell_type": "code",
   "execution_count": 239,
   "metadata": {},
   "outputs": [],
   "source": [
    "q1_test_vec = tfidf_vect.transform(test_df['question1'])\n",
    "q2_train_vec = tfidf_vect.transform(train_df['question2'])\n",
    "q2_test_vec = tfidf_vect.transform(test_df['question2'])"
   ]
  },
  {
   "cell_type": "code",
   "execution_count": 225,
   "metadata": {},
   "outputs": [
    {
     "data": {
      "text/plain": [
       "Index(['id', 'is_duplicate', 'cwc_min', 'cwc_max', 'csc_min', 'csc_max',\n",
       "       'ctc_min', 'ctc_max', 'last_word_eq', 'first_word_eq', 'abs_len_diff',\n",
       "       'mean_len', 'token_set_ratio', 'token_sort_ratio', 'fuzz_ratio',\n",
       "       'fuzz_partial_ratio', 'longest_substr_ratio', 'id', 'freq_qid1',\n",
       "       'freq_qid2', 'q1len', 'q2len', 'q1_n_words', 'q2_n_words',\n",
       "       'word_Common', 'word_Total', 'word_share', 'freq_q1+q2', 'freq_q1-q2',\n",
       "       'question1', 'question2'],\n",
       "      dtype='object')"
      ]
     },
     "execution_count": 225,
     "metadata": {},
     "output_type": "execute_result"
    }
   ],
   "source": [
    "train_df.columns"
   ]
  },
  {
   "cell_type": "code",
   "execution_count": 230,
   "metadata": {},
   "outputs": [],
   "source": [
    "X_train_data = train_df.drop(['id','is_duplicate','question1','question2'],axis=1)\n",
    "X_train_q1 = train_df['question1']\n",
    "X_train_q2 = train_df['question2']\n",
    "y_train = train_df['is_duplicate']"
   ]
  },
  {
   "cell_type": "code",
   "execution_count": 254,
   "metadata": {},
   "outputs": [],
   "source": [
    "X_test_data = test_df.drop(['id','is_duplicate','question1','question2'],axis=1)\n",
    "X_test_q1 = test_df['question1']\n",
    "X_test_q2 = test_df['question2']\n",
    "y_test = test_df['is_duplicate']"
   ]
  },
  {
   "cell_type": "code",
   "execution_count": 232,
   "metadata": {},
   "outputs": [
    {
     "data": {
      "text/plain": [
       "Index(['cwc_min', 'cwc_max', 'csc_min', 'csc_max', 'ctc_min', 'ctc_max',\n",
       "       'last_word_eq', 'first_word_eq', 'abs_len_diff', 'mean_len',\n",
       "       'token_set_ratio', 'token_sort_ratio', 'fuzz_ratio',\n",
       "       'fuzz_partial_ratio', 'longest_substr_ratio', 'freq_qid1', 'freq_qid2',\n",
       "       'q1len', 'q2len', 'q1_n_words', 'q2_n_words', 'word_Common',\n",
       "       'word_Total', 'word_share', 'freq_q1+q2', 'freq_q1-q2'],\n",
       "      dtype='object')"
      ]
     },
     "execution_count": 232,
     "metadata": {},
     "output_type": "execute_result"
    }
   ],
   "source": [
    "X_train_data.columns"
   ]
  },
  {
   "cell_type": "code",
   "execution_count": 255,
   "metadata": {},
   "outputs": [
    {
     "data": {
      "text/plain": [
       "Index(['cwc_min', 'cwc_max', 'csc_min', 'csc_max', 'ctc_min', 'ctc_max',\n",
       "       'last_word_eq', 'first_word_eq', 'abs_len_diff', 'mean_len',\n",
       "       'token_set_ratio', 'token_sort_ratio', 'fuzz_ratio',\n",
       "       'fuzz_partial_ratio', 'longest_substr_ratio', 'freq_qid1', 'freq_qid2',\n",
       "       'q1len', 'q2len', 'q1_n_words', 'q2_n_words', 'word_Common',\n",
       "       'word_Total', 'word_share', 'freq_q1+q2', 'freq_q1-q2'],\n",
       "      dtype='object')"
      ]
     },
     "execution_count": 255,
     "metadata": {},
     "output_type": "execute_result"
    }
   ],
   "source": [
    "X_test_data.columns"
   ]
  },
  {
   "cell_type": "code",
   "execution_count": 234,
   "metadata": {},
   "outputs": [
    {
     "data": {
      "text/plain": [
       "(70000, 26)"
      ]
     },
     "execution_count": 234,
     "metadata": {},
     "output_type": "execute_result"
    }
   ],
   "source": [
    "X_train_data = csr_matrix(X_train_data)\n",
    "X_train_data.shape"
   ]
  },
  {
   "cell_type": "code",
   "execution_count": 256,
   "metadata": {},
   "outputs": [
    {
     "data": {
      "text/plain": [
       "(30000, 26)"
      ]
     },
     "execution_count": 256,
     "metadata": {},
     "output_type": "execute_result"
    }
   ],
   "source": [
    "X_test_data = csr_matrix(X_test_data)\n",
    "X_test_data.shape"
   ]
  },
  {
   "cell_type": "code",
   "execution_count": 257,
   "metadata": {},
   "outputs": [
    {
     "name": "stdout",
     "output_type": "stream",
     "text": [
      "Q1 sparse matrix shape (train): \n",
      "(70000, 39417)\n",
      "Q2 sparse matrix shape (train): \n",
      "(70000, 39417)\n"
     ]
    }
   ],
   "source": [
    "print(\"Q1 sparse matrix shape (train): \")\n",
    "print(q1_train_vec.shape)\n",
    "print(\"Q2 sparse matrix shape (train): \")\n",
    "print(q2_train_vec.shape)"
   ]
  },
  {
   "cell_type": "code",
   "execution_count": 258,
   "metadata": {},
   "outputs": [
    {
     "name": "stdout",
     "output_type": "stream",
     "text": [
      "Q1 sparse matrix shape: (test)\n",
      "(30000, 39417)\n",
      "Q2 sparse matrix shape: (test)\n",
      "(30000, 39417)\n"
     ]
    }
   ],
   "source": [
    "print(\"Q1 sparse matrix shape: (test)\")\n",
    "print(q1_test_vec.shape)\n",
    "print(\"Q2 sparse matrix shape: (test)\")\n",
    "print(q2_test_vec.shape)"
   ]
  },
  {
   "cell_type": "code",
   "execution_count": 244,
   "metadata": {},
   "outputs": [],
   "source": [
    "X_train = hstack([X_train_data, q1_train_vec, q2_train_vec])\n",
    "y_train = train_df['is_duplicate']"
   ]
  },
  {
   "cell_type": "code",
   "execution_count": 259,
   "metadata": {},
   "outputs": [],
   "source": [
    "X_test = hstack([X_test_data, q1_test_vec, q2_test_vec])\n",
    "y_test = test_df['is_duplicate']"
   ]
  },
  {
   "cell_type": "code",
   "execution_count": 260,
   "metadata": {},
   "outputs": [
    {
     "name": "stdout",
     "output_type": "stream",
     "text": [
      "Shape of nlpfeatures + question 1 tfidf vecs + question2 tfidf vecs (TRAIN): \n",
      "(70000, 78860)\n"
     ]
    }
   ],
   "source": [
    "print(\"Shape of nlpfeatures + question 1 tfidf vecs + question2 tfidf vecs (TRAIN): \")\n",
    "print(X_train.shape)"
   ]
  },
  {
   "cell_type": "code",
   "execution_count": 261,
   "metadata": {},
   "outputs": [
    {
     "name": "stdout",
     "output_type": "stream",
     "text": [
      "Shape of nlpfeatures + question 1 tfidf vecs + question2 tfidf vecs (TEST): \n",
      "(30000, 78860)\n"
     ]
    }
   ],
   "source": [
    "print(\"Shape of nlpfeatures + question 1 tfidf vecs + question2 tfidf vecs (TEST): \")\n",
    "print(X_test.shape)"
   ]
  },
  {
   "cell_type": "code",
   "execution_count": 262,
   "metadata": {},
   "outputs": [
    {
     "name": "stdout",
     "output_type": "stream",
     "text": [
      "y_train shape:\n",
      "(70000,)\n",
      "y_test shape:\n",
      "(30000,)\n"
     ]
    }
   ],
   "source": [
    "print(\"y_train shape:\")\n",
    "print(y_train.shape)\n",
    "print(\"y_test shape:\")\n",
    "print(y_test.shape)"
   ]
  },
  {
   "cell_type": "markdown",
   "metadata": {},
   "source": [
    "<h1>5.2a Linear SVM with tfidf + Parameter Tuning</h1>"
   ]
  },
  {
   "cell_type": "code",
   "execution_count": 263,
   "metadata": {},
   "outputs": [
    {
     "name": "stdout",
     "output_type": "stream",
     "text": [
      "For values of alpha =  1e-05 The log loss is: 0.47263152604704034\n",
      "For values of alpha =  0.0001 The log loss is: 0.4928134963324946\n",
      "For values of alpha =  0.001 The log loss is: 0.49998261727884696\n",
      "For values of alpha =  0.01 The log loss is: 0.5101196812446602\n",
      "For values of alpha =  0.1 The log loss is: 0.5315151919794252\n",
      "For values of alpha =  1 The log loss is: 0.5857075399901388\n",
      "For values of alpha =  10 The log loss is: 0.6184147200379536\n"
     ]
    },
    {
     "data": {
      "image/png": "[encoded data removed]",
      "text/plain": [
       "<Figure size 432x288 with 1 Axes>"
      ]
     },
     "metadata": {
      "needs_background": "light"
     },
     "output_type": "display_data"
    },
    {
     "name": "stdout",
     "output_type": "stream",
     "text": [
      "For values of best alpha =  1e-05 The train log loss is: 0.47163314256619354\n",
      "For values of best alpha =  1e-05 The test log loss is: 0.47263152604704034\n",
      "Total number of data points : 30000\n"
     ]
    },
    {
     "data": {
      "image/png": "[encoded data removed]",
      "text/plain": [
       "<Figure size 1440x288 with 6 Axes>"
      ]
     },
     "metadata": {
      "needs_background": "light"
     },
     "output_type": "display_data"
    }
   ],
   "source": [
    "alpha = [10 ** x for x in range(-5, 2)] # hyperparam for SGD classifier.\n",
    "\n",
    "# read more about SGDClassifier() at http://scikit-learn.org/stable/modules/generated/sklearn.linear_model.SGDClassifier.html\n",
    "# ------------------------------\n",
    "# default parameters\n",
    "# SGDClassifier(loss=’hinge’, penalty=’l2’, alpha=0.0001, l1_ratio=0.15, fit_intercept=True, max_iter=None, tol=None, \n",
    "# shuffle=True, verbose=0, epsilon=0.1, n_jobs=1, random_state=None, learning_rate=’optimal’, eta0=0.0, power_t=0.5, \n",
    "# class_weight=None, warm_start=False, average=False, n_iter=None)\n",
    "\n",
    "# some of methods\n",
    "# fit(X, y[, coef_init, intercept_init, …])\tFit linear model with Stochastic Gradient Descent.\n",
    "# predict(X)\tPredict class labels for samples in X.\n",
    "\n",
    "#-------------------------------\n",
    "# video link: \n",
    "#------------------------------\n",
    "\n",
    "\n",
    "log_error_array=[]\n",
    "for i in alpha:\n",
    "    clf = SGDClassifier(alpha=i, penalty='l1', loss='hinge', random_state=42)\n",
    "    clf.fit(X_train, y_train)\n",
    "    sig_clf = CalibratedClassifierCV(clf, method=\"sigmoid\")\n",
    "    sig_clf.fit(X_train, y_train)\n",
    "    predict_y = sig_clf.predict_proba(X_test)\n",
    "    log_error_array.append(log_loss(y_test, predict_y, labels=clf.classes_, eps=1e-15))\n",
    "    print('For values of alpha = ', i, \"The log loss is:\",log_loss(y_test, predict_y, labels=clf.classes_, eps=1e-15))\n",
    "\n",
    "fig, ax = plt.subplots()\n",
    "ax.plot(alpha, log_error_array,c='g')\n",
    "for i, txt in enumerate(np.round(log_error_array,3)):\n",
    "    ax.annotate((alpha[i],np.round(txt,3)), (alpha[i],log_error_array[i]))\n",
    "plt.grid()\n",
    "plt.title(\"Cross Validation Error for each alpha\")\n",
    "plt.xlabel(\"Alpha i's\")\n",
    "plt.ylabel(\"Error measure\")\n",
    "plt.show()\n",
    "\n",
    "\n",
    "best_alpha = np.argmin(log_error_array)\n",
    "clf = SGDClassifier(alpha=alpha[best_alpha], penalty='l1', loss='hinge', random_state=42)\n",
    "clf.fit(X_train, y_train)\n",
    "sig_clf = CalibratedClassifierCV(clf, method=\"sigmoid\")\n",
    "sig_clf.fit(X_train, y_train)\n",
    "\n",
    "predict_y = sig_clf.predict_proba(X_train)\n",
    "print('For values of best alpha = ', alpha[best_alpha], \"The train log loss is:\",log_loss(y_train, predict_y, labels=clf.classes_, eps=1e-15))\n",
    "predict_y = sig_clf.predict_proba(X_test)\n",
    "print('For values of best alpha = ', alpha[best_alpha], \"The test log loss is:\",log_loss(y_test, predict_y, labels=clf.classes_, eps=1e-15))\n",
    "predicted_y =np.argmax(predict_y,axis=1)\n",
    "print(\"Total number of data points :\", len(predicted_y))\n",
    "plot_confusion_matrix(y_test, predicted_y)"
   ]
  },
  {
   "cell_type": "markdown",
   "metadata": {},
   "source": [
    "<h1>5.2b Logistic Regression with tfidf + Parameter Tuning</h1>"
   ]
  },
  {
   "cell_type": "code",
   "execution_count": 264,
   "metadata": {},
   "outputs": [
    {
     "name": "stdout",
     "output_type": "stream",
     "text": [
      "For values of alpha =  1e-05 The log loss is: 0.4679958243067043\n",
      "For values of alpha =  0.0001 The log loss is: 0.46867211895164584\n",
      "For values of alpha =  0.001 The log loss is: 0.46693101035248197\n",
      "For values of alpha =  0.01 The log loss is: 0.4656861177016981\n",
      "For values of alpha =  0.1 The log loss is: 0.464964086261111\n",
      "For values of alpha =  1 The log loss is: 0.4928275973835851\n",
      "For values of alpha =  10 The log loss is: 0.5467762253023885\n"
     ]
    },
    {
     "data": {
      "image/png": "[encoded data removed]",
      "text/plain": [
       "<Figure size 432x288 with 1 Axes>"
      ]
     },
     "metadata": {
      "needs_background": "light"
     },
     "output_type": "display_data"
    },
    {
     "name": "stdout",
     "output_type": "stream",
     "text": [
      "For values of best alpha =  0.1 The train log loss is: 0.4620686804904221\n",
      "For values of best alpha =  0.1 The test log loss is: 0.464964086261111\n",
      "Total number of data points : 30000\n"
     ]
    },
    {
     "data": {
      "image/png": "[encoded data removed]",
      "text/plain": [
       "<Figure size 1440x288 with 6 Axes>"
      ]
     },
     "metadata": {
      "needs_background": "light"
     },
     "output_type": "display_data"
    }
   ],
   "source": [
    "alpha = [10 ** x for x in range(-5, 2)] # hyperparam for SGD classifier.\n",
    "\n",
    "# read more about SGDClassifier() at http://scikit-learn.org/stable/modules/generated/sklearn.linear_model.SGDClassifier.html\n",
    "# ------------------------------\n",
    "# default parameters\n",
    "# SGDClassifier(loss=’hinge’, penalty=’l2’, alpha=0.0001, l1_ratio=0.15, fit_intercept=True, max_iter=None, tol=None, \n",
    "# shuffle=True, verbose=0, epsilon=0.1, n_jobs=1, random_state=None, learning_rate=’optimal’, eta0=0.0, power_t=0.5, \n",
    "# class_weight=None, warm_start=False, average=False, n_iter=None)\n",
    "\n",
    "# some of methods\n",
    "# fit(X, y[, coef_init, intercept_init, …])\tFit linear model with Stochastic Gradient Descent.\n",
    "# predict(X)\tPredict class labels for samples in X.\n",
    "\n",
    "\n",
    "log_error_array=[]\n",
    "for i in alpha:\n",
    "    clf = SGDClassifier(alpha=i, penalty='l2', loss='log', random_state=42)\n",
    "    clf.fit(X_train, y_train)\n",
    "    sig_clf = CalibratedClassifierCV(clf, method=\"sigmoid\")\n",
    "    sig_clf.fit(X_train, y_train)\n",
    "    predict_y = sig_clf.predict_proba(X_test)\n",
    "    log_error_array.append(log_loss(y_test, predict_y, labels=clf.classes_, eps=1e-15))\n",
    "    print('For values of alpha = ', i, \"The log loss is:\",log_loss(y_test, predict_y, labels=clf.classes_, eps=1e-15))\n",
    "\n",
    "fig, ax = plt.subplots()\n",
    "ax.plot(alpha, log_error_array,c='g')\n",
    "for i, txt in enumerate(np.round(log_error_array,3)):\n",
    "    ax.annotate((alpha[i],np.round(txt,3)), (alpha[i],log_error_array[i]))\n",
    "plt.grid()\n",
    "plt.title(\"Cross Validation Error for each alpha\")\n",
    "plt.xlabel(\"Alpha i's\")\n",
    "plt.ylabel(\"Error measure\")\n",
    "plt.show()\n",
    "\n",
    "\n",
    "best_alpha = np.argmin(log_error_array)\n",
    "clf = SGDClassifier(alpha=alpha[best_alpha], penalty='l2', loss='log', random_state=42)\n",
    "clf.fit(X_train, y_train)\n",
    "sig_clf = CalibratedClassifierCV(clf, method=\"sigmoid\")\n",
    "sig_clf.fit(X_train, y_train)\n",
    "\n",
    "predict_y = sig_clf.predict_proba(X_train)\n",
    "print('For values of best alpha = ', alpha[best_alpha], \"The train log loss is:\",log_loss(y_train, predict_y, labels=clf.classes_, eps=1e-15))\n",
    "predict_y = sig_clf.predict_proba(X_test)\n",
    "print('For values of best alpha = ', alpha[best_alpha], \"The test log loss is:\",log_loss(y_test, predict_y, labels=clf.classes_, eps=1e-15))\n",
    "predicted_y =np.argmax(predict_y,axis=1)\n",
    "print(\"Total number of data points :\", len(predicted_y))\n",
    "plot_confusion_matrix(y_test, predicted_y)"
   ]
  },
  {
   "cell_type": "markdown",
   "metadata": {},
   "source": [
    "<h1>Summary</h1>"
   ]
  },
  {
   "cell_type": "code",
   "execution_count": 265,
   "metadata": {},
   "outputs": [],
   "source": [
    "from prettytable import PrettyTable"
   ]
  },
  {
   "cell_type": "code",
   "execution_count": 271,
   "metadata": {},
   "outputs": [
    {
     "name": "stdout",
     "output_type": "stream",
     "text": [
      "+----------------+---------------------+------------------------------------------+----------------+---------------+\n",
      "|   Technique    |      Algorithm      |             Hyper parameters             | Train Log loss | Test Log loss |\n",
      "+----------------+---------------------+------------------------------------------+----------------+---------------+\n",
      "| Tfidf Word2Vec | Logistic regression |                 alpha=1                  |      0.51      |      0.52     |\n",
      "| Tfidf Word2Vec |      Linear SVM     |                  0.0001                  |     0.478      |     0.489     |\n",
      "| Tfidf Word2Vec |       XGBoost       | n_estimators=150; max_depth=7; gamma=1.5 |     0.339      |      0.33     |\n",
      "|     Tfidf      | Logistic regression |                alpha=0.1                 |     0.462      |     0.465     |\n",
      "|     Tfidf      |      Linear SVM     |               alpha=1e-05                |     0.472      |     0.473     |\n",
      "+----------------+---------------------+------------------------------------------+----------------+---------------+\n"
     ]
    }
   ],
   "source": [
    "table = PrettyTable()\n",
    "table.field_names = ['Technique', 'Algorithm', 'Hyper parameters', 'Train Log loss', 'Test Log loss']\n",
    "table.add_row(['Tfidf Word2Vec', 'Logistic regression', 'alpha=1', '0.51', '0.52'])\n",
    "table.add_row(['Tfidf Word2Vec', 'Linear SVM', '0.0001', '0.478', '0.489'])\n",
    "table.add_row(['Tfidf Word2Vec', 'XGBoost', 'n_estimators=150; max_depth=7; gamma=1.5', '0.339', '0.33'])\n",
    "table.add_row(['Tfidf', 'Logistic regression', 'alpha=0.1', '0.462', '0.465'])\n",
    "table.add_row(['Tfidf', 'Linear SVM', 'alpha=1e-05', '0.472', '0.473'])\n",
    "print(table)"
   ]
  },
  {
   "cell_type": "code",
   "execution_count": null,
   "metadata": {},
   "outputs": [],
   "source": []
  },
  {
   "cell_type": "code",
   "execution_count": null,
   "metadata": {},
   "outputs": [],
   "source": []
  }
 ],
 "metadata": {
  "colab": {
   "name": "4.ML_models.ipynb",
   "provenance": [],
   "version": "0.3.2"
  },
  "kernelspec": {
   "display_name": "Python 3",
   "language": "python",
   "name": "python3"
  },
  "language_info": {
   "codemirror_mode": {
    "name": "ipython",
    "version": 3
   },
   "file_extension": ".py",
   "mimetype": "text/x-python",
   "name": "python",
   "nbconvert_exporter": "python",
   "pygments_lexer": "ipython3",
   "version": "3.7.0"
  }
 },
 "nbformat": 4,
 "nbformat_minor": 2
}
